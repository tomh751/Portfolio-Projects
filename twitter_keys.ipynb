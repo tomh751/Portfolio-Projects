{
 "cells": [
  {
   "cell_type": "code",
   "execution_count": 4,
   "metadata": {},
   "outputs": [],
   "source": [
    "import pandas as pd"
   ]
  },
  {
   "cell_type": "code",
   "execution_count": 5,
   "metadata": {},
   "outputs": [],
   "source": [
    "BearerToken = \"AAAAAAAAAAAAAAAAAAAAADMwRQEAAAAADKwhmAX67pSPOD8FQF8NvoMjhEI%3DyW2T2pw7JK7fKoUilf3GTEOJrPCZ1yurFEzqWNl727euTWfzrQ\""
   ]
  },
  {
   "cell_type": "code",
   "execution_count": 6,
   "metadata": {},
   "outputs": [],
   "source": [
    "APIKey = \"VGfjoQ9HlEBkj4khIhRLfCmyh\"\n",
    "APISecretKey = \"sadQqGwMxF3ebkJaUWgfiRQ4yVwatasF74Bfa0UpeBXGcpVWHH\"\n",
    "AccessToken = \"1192753577703424000-yDdQ7cE69DpTgfjTilOthpZjzyvEzt\"\n",
    "AccessTokenSecret = \"Hi9zF59SeI2RveHm30iPR07WHeDEEW2hWbmHEcvnqkD6e\""
   ]
  },
  {
   "cell_type": "code",
   "execution_count": 7,
   "metadata": {},
   "outputs": [],
   "source": [
    "dic = {\"Key\":APIKey,\"Secret Key\":APISecretKey,\n",
    "       \"Token\":AccessToken,\"Secret Token\":AccessTokenSecret}\n",
    "keys_df = pd.DataFrame(data=[dic])"
   ]
  },
  {
   "cell_type": "code",
   "execution_count": 8,
   "metadata": {},
   "outputs": [
    {
     "data": {
      "text/html": [
       "<div>\n",
       "<style scoped>\n",
       "    .dataframe tbody tr th:only-of-type {\n",
       "        vertical-align: middle;\n",
       "    }\n",
       "\n",
       "    .dataframe tbody tr th {\n",
       "        vertical-align: top;\n",
       "    }\n",
       "\n",
       "    .dataframe thead th {\n",
       "        text-align: right;\n",
       "    }\n",
       "</style>\n",
       "<table border=\"1\" class=\"dataframe\">\n",
       "  <thead>\n",
       "    <tr style=\"text-align: right;\">\n",
       "      <th></th>\n",
       "      <th>Key</th>\n",
       "      <th>Secret Key</th>\n",
       "      <th>Token</th>\n",
       "      <th>Secret Token</th>\n",
       "    </tr>\n",
       "  </thead>\n",
       "  <tbody>\n",
       "    <tr>\n",
       "      <th>0</th>\n",
       "      <td>VGfjoQ9HlEBkj4khIhRLfCmyh</td>\n",
       "      <td>sadQqGwMxF3ebkJaUWgfiRQ4yVwatasF74Bfa0UpeBXGcp...</td>\n",
       "      <td>1192753577703424000-yDdQ7cE69DpTgfjTilOthpZjzy...</td>\n",
       "      <td>Hi9zF59SeI2RveHm30iPR07WHeDEEW2hWbmHEcvnqkD6e</td>\n",
       "    </tr>\n",
       "  </tbody>\n",
       "</table>\n",
       "</div>"
      ],
      "text/plain": [
       "                         Key  \\\n",
       "0  VGfjoQ9HlEBkj4khIhRLfCmyh   \n",
       "\n",
       "                                          Secret Key  \\\n",
       "0  sadQqGwMxF3ebkJaUWgfiRQ4yVwatasF74Bfa0UpeBXGcp...   \n",
       "\n",
       "                                               Token  \\\n",
       "0  1192753577703424000-yDdQ7cE69DpTgfjTilOthpZjzy...   \n",
       "\n",
       "                                    Secret Token  \n",
       "0  Hi9zF59SeI2RveHm30iPR07WHeDEEW2hWbmHEcvnqkD6e  "
      ]
     },
     "execution_count": 8,
     "metadata": {},
     "output_type": "execute_result"
    }
   ],
   "source": [
    "keys_df"
   ]
  },
  {
   "cell_type": "code",
   "execution_count": 9,
   "metadata": {},
   "outputs": [],
   "source": [
    "keys_df.to_csv(\"twitter_keys.csv\")"
   ]
  },
  {
   "cell_type": "code",
   "execution_count": null,
   "metadata": {},
   "outputs": [],
   "source": []
  }
 ],
 "metadata": {
  "kernelspec": {
   "display_name": "Python 3",
   "language": "python",
   "name": "python3"
  },
  "language_info": {
   "codemirror_mode": {
    "name": "ipython",
    "version": 3
   },
   "file_extension": ".py",
   "mimetype": "text/x-python",
   "name": "python",
   "nbconvert_exporter": "python",
   "pygments_lexer": "ipython3",
   "version": "3.8.3"
  }
 },
 "nbformat": 4,
 "nbformat_minor": 4
}

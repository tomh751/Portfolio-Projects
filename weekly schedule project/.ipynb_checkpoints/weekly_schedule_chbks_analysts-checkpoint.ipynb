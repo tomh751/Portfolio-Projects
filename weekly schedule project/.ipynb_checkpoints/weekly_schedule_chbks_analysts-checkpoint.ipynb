{
 "cells": [
  {
   "cell_type": "code",
   "execution_count": 8,
   "metadata": {
    "scrolled": true
   },
   "outputs": [],
   "source": [
    "# Importing the libraries i'll use.\n",
    "import pandas as pd\n",
    "import numpy as np\n",
    "from datetime import datetime, timedelta\n",
    "import time\n",
    "import tkinter as tk\n",
    "from tkinter import ttk\n",
    "from tkinter import *\n",
    "import calendar\n",
    "import os\n",
    "from pathlib import Path"
   ]
  },
  {
   "cell_type": "markdown",
   "metadata": {},
   "source": [
    "# Reading a weekly schedule file"
   ]
  },
  {
   "cell_type": "code",
   "execution_count": null,
   "metadata": {},
   "outputs": [],
   "source": [
    "# Reading a weekly schedule file in order to get the analysts names.\n",
    "\n",
    "df = pd.read_excel('weekly schedule chbks analysts for the names.xlsx',skiprows=4,\n",
    "                   usecols = ['Unnamed: 0']).rename(columns={'Unnamed: 0':'Analysts'})"
   ]
  },
  {
   "cell_type": "code",
   "execution_count": null,
   "metadata": {
    "scrolled": false
   },
   "outputs": [],
   "source": [
    "df.head()"
   ]
  },
  {
   "cell_type": "markdown",
   "metadata": {},
   "source": [
    "# Creating the dataframe"
   ]
  },
  {
   "cell_type": "code",
   "execution_count": null,
   "metadata": {},
   "outputs": [],
   "source": [
    "analysts = df['Analysts'] # Analysts names.\n",
    "\n",
    "time_range = pd.date_range('08:00','20:00',freq='1h')\n",
    "time_lst = time_range.strftime('%H:%M:%S')\n",
    "time_lst # List that have time range between 8AM to 8PM.\n",
    "\n",
    "start_shift = time_lst.copy() # Time range to use for entering the hour you start your shift.\n",
    "end_shift = time_lst.copy() # Time range to use for entering the hour you end your shift.\n",
    "\n",
    "days = list(calendar.day_name) \n",
    "sunday = days[-1]\n",
    "rest_of_the_week = days[:-1]\n",
    "new_week_order = [sunday] + rest_of_the_week # List of weekday names.\n",
    "\n",
    "workplace = ['Home','Office'] # Option where you choose to work."
   ]
  },
  {
   "cell_type": "code",
   "execution_count": null,
   "metadata": {},
   "outputs": [],
   "source": [
    "headers = ['In', 'Out', 'Hours', 'Workplace'] # List of the subcolumn name.\n",
    "\n",
    "days = list(calendar.day_name)\n",
    "sunday = days[-1]\n",
    "rest_of_the_week = days[:-3]\n",
    "week = [sunday] + rest_of_the_week # An organized week list from Sunday-Thursday.\n",
    "\n",
    "mux = pd.MultiIndex.from_product([week, headers]) # Creating the MultiIndex dataframe.\n",
    "full_week = pd.DataFrame(columns=mux)\n",
    "full_week.insert(0, 'Analyst', df['Analysts'].str.title())\n",
    "full_week = full_week.fillna('')"
   ]
  },
  {
   "cell_type": "code",
   "execution_count": null,
   "metadata": {
    "scrolled": false
   },
   "outputs": [],
   "source": [
    "full_week.head()"
   ]
  },
  {
   "cell_type": "markdown",
   "metadata": {},
   "source": [
    "# Creating the GUI"
   ]
  },
  {
   "cell_type": "code",
   "execution_count": null,
   "metadata": {},
   "outputs": [],
   "source": [
    "# Creating the GUI window.\n",
    "roo = Tk()\n",
    "roo.title('Shift Request')\n",
    "roo.geometry('300x300')\n",
    "picture = PhotoImage(file='Justt BG.png', master=roo)\n",
    "bg = Label(roo, image=picture)\n",
    "bg.place(x=0, y=0, relwidth=1, relheight=1)"
   ]
  },
  {
   "cell_type": "code",
   "execution_count": null,
   "metadata": {},
   "outputs": [],
   "source": [
    "# First drop-down menu.\n",
    "chosen1 = tk.StringVar(value='Analyst Name')\n",
    "vyber1 = tk.OptionMenu(roo, chosen1, *analysts)\n",
    "vyber1['bg'] = '#30D5C8'\n",
    "vyber1.place(relx=0.20, rely=0.15, relwidth=0.65, relheight=0.09)\n",
    "vyber1.config(font=('calibri', '10'))\n",
    "\n",
    "# Second drop-down menu.\n",
    "chosen2 = tk.StringVar(value='Shift Starting Hour')\n",
    "vyber2 = tk.OptionMenu(roo, chosen2, *start_shift)\n",
    "vyber2['bg'] = '#30D5C8'\n",
    "vyber2.place(relx=0.20, rely=0.26, relwidth=0.65, relheight=0.09)\n",
    "vyber2.config(font=('calibri', '10'))\n",
    "\n",
    "# Third drop-down menu.\n",
    "chosen3 = tk.StringVar(value='Shift Ending Hour')\n",
    "vyber3 = tk.OptionMenu(roo, chosen3, *end_shift)\n",
    "vyber3['bg'] = '#30D5C8'\n",
    "vyber3.place(relx=0.20, rely=0.37, relwidth=0.65, relheight=0.09)\n",
    "vyber3.config(font=('calibri', '10'))\n",
    "\n",
    "# Fourth drop-down menu.\n",
    "chosen4 = tk.StringVar(value='Weekday')\n",
    "vyber4 = tk.OptionMenu(roo, chosen4, *new_week_order)\n",
    "vyber4['bg'] = '#30D5C8'\n",
    "vyber4.place(relx=0.20, rely=0.48, relwidth=0.65, relheight=0.09)\n",
    "vyber4.config(font=('calibri', '10'))\n",
    "\n",
    "# Fifth drop-down menu.\n",
    "chosen5 = tk.StringVar(value='Workplace Preference')\n",
    "vyber5 = tk.OptionMenu(roo, chosen5, *workplace)\n",
    "vyber5['bg'] = '#30D5C8'\n",
    "vyber5.place(relx=0.20, rely=0.59, relwidth=0.65, relheight=0.09)\n",
    "vyber5.config(font=('calibri', '10'))"
   ]
  },
  {
   "cell_type": "markdown",
   "metadata": {},
   "source": [
    "# Functions to run the GUI windows"
   ]
  },
  {
   "cell_type": "code",
   "execution_count": null,
   "metadata": {},
   "outputs": [],
   "source": [
    "# The function is connected to the main window GUI and it opens once the user click on the save button.\n",
    "def open_mini_window():\n",
    "    root = tk.Toplevel(roo)\n",
    "    root.geometry('240x100')\n",
    "    picture = PhotoImage(file='Justt BG.png')\n",
    "    bg = Label(root, text=\"Request Successfully Saved! \\n  Do You Want To Enter Another Shift?\",\n",
    "    font=('calibri', 11), fg='white', image=picture, compound='top')\n",
    "    bg.place(x=0, y=0, relwidth=1, relheight=1)\n",
    "\n",
    "    yes_button = tk.Button(root, text='Yes', font=('calibri', '10'), command=root.destroy)\n",
    "    yes_button.place(relx=0.38, rely=0.45)\n",
    "    yes_button['bg'] = '#30D5C8'\n",
    "#     yes_button.pack()\n",
    "\n",
    "    no_button = tk.Button(root, text='No', font=('calibri', '10'), command=root.destroy)\n",
    "    no_button.place(relx=0.5, rely=0.45)\n",
    "    no_button['bg'] = '#30D5C8'\n",
    "#     no_button.pack()\n",
    "    \n",
    "    root.iconbitmap('JUSTT Logo.ico')\n",
    "    root.resizable(False, False)\n",
    "    root.mainloop()"
   ]
  },
  {
   "cell_type": "code",
   "execution_count": null,
   "metadata": {},
   "outputs": [],
   "source": [
    "def total_shift_hours(start, end):\n",
    "    format = \"%H:%M:%S\"\n",
    "    start = datetime.strptime(start, format)\n",
    "    starting_hour = start.hour\n",
    "\n",
    "    end = datetime.strptime(end, format)\n",
    "    ending_hour = end.hour\n",
    "    \n",
    "    total_hours = ending_hour - starting_hour\n",
    "    return total_hours\n",
    "\n",
    "def show_chosen_info():\n",
    "    analyst = chosen1.get()\n",
    "    start = chosen2.get()\n",
    "    end = chosen3.get()\n",
    "    total_hours = total_shift_hours(start, end)\n",
    "    day = chosen4.get()\n",
    "    place = chosen5.get()\n",
    "    info = [analyst, start, end, total_hours, day, place]\n",
    "    return info"
   ]
  },
  {
   "cell_type": "code",
   "execution_count": null,
   "metadata": {},
   "outputs": [],
   "source": [
    "# The main function to run the GUI window with the options to choose your shift info.\n",
    "open_windows_commands = {}\n",
    "\n",
    "def open_window():\n",
    "    key = f'{chosen1.get()}{chosen2.get()}{chosen3.get()}{chosen4.get()}{chosen5.get()}'  # Create key from choices.\n",
    "    open_window_command = open_windows_commands.get(key, show_chosen_info)\n",
    "    open_window_command()\n",
    "    open_mini_window()\n",
    "\n",
    "btn = tk.Button(roo, text='Save My Request',\n",
    "                font=('calibri', '10'), command=open_mini_window) # A clickable button to save the request.\n",
    "btn.place(relx=0.32, rely=0.80)\n",
    "btn['bg'] = '#30D5C8'\n",
    "\n",
    "roo.iconbitmap('JUSTT Logo.ico')\n",
    "roo.mainloop()"
   ]
  },
  {
   "cell_type": "markdown",
   "metadata": {},
   "source": [
    "# Entring the analyst shift request input to the dataframe"
   ]
  },
  {
   "cell_type": "code",
   "execution_count": null,
   "metadata": {},
   "outputs": [],
   "source": [
    "# The function will map the correct info the analyst requested to the right day.\n",
    "def mapping_the_request():\n",
    "    global row\n",
    "    global day\n",
    "    choices = show_chosen_info()\n",
    "    cols = ['Analyst','In', 'Out', 'Hours', 'Weekday', 'Workplace']\n",
    "    d = dict(zip(cols, choices))\n",
    "    day = d['Weekday']\n",
    "    temp_day_column = full_week[day]\n",
    "    \n",
    "    for index, col in full_week.iterrows():\n",
    "        if col[0] == d['Analyst'] and d[\"Weekday\"] in full_week.columns:\n",
    "            row = index\n",
    "            \n",
    "    del d['Weekday'] \n",
    "    del d['Analyst']\n",
    "    request = list(d.values())\n",
    "    temp_day_column.iloc[row] = request\n",
    "    full_week[day] = temp_day_column\n",
    "    return full_week\n",
    "\n",
    "\n",
    "# full_week.update(mapping_the_request()) "
   ]
  },
  {
   "cell_type": "code",
   "execution_count": null,
   "metadata": {
    "scrolled": false
   },
   "outputs": [],
   "source": [
    "full_week['Tuesday'].iloc[12]"
   ]
  },
  {
   "cell_type": "code",
   "execution_count": null,
   "metadata": {},
   "outputs": [],
   "source": []
  },
  {
   "cell_type": "code",
   "execution_count": null,
   "metadata": {},
   "outputs": [],
   "source": []
  },
  {
   "cell_type": "code",
   "execution_count": null,
   "metadata": {},
   "outputs": [],
   "source": []
  },
  {
   "cell_type": "code",
   "execution_count": null,
   "metadata": {},
   "outputs": [],
   "source": []
  },
  {
   "cell_type": "code",
   "execution_count": null,
   "metadata": {},
   "outputs": [],
   "source": []
  },
  {
   "cell_type": "code",
   "execution_count": null,
   "metadata": {},
   "outputs": [],
   "source": []
  },
  {
   "cell_type": "markdown",
   "metadata": {},
   "source": [
    "# The correct way to make the GUI windows work!!!!!!!!!!"
   ]
  },
  {
   "cell_type": "code",
   "execution_count": null,
   "metadata": {},
   "outputs": [],
   "source": [
    "roo = Tk()\n",
    "roo.title('Shift Request')\n",
    "roo.geometry('300x300')\n",
    "picture = PhotoImage(file='Justt BG.png', master=roo)\n",
    "bg = Label(roo, image=picture)\n",
    "bg.place(x=0, y=0, relwidth=1, relheight=1)"
   ]
  },
  {
   "cell_type": "code",
   "execution_count": null,
   "metadata": {},
   "outputs": [],
   "source": [
    "# First drop-down menu.\n",
    "chosen1 = tk.StringVar(value='Analyst Name')\n",
    "vyber1 = tk.OptionMenu(roo, chosen1, *analysts)\n",
    "vyber1['bg'] = '#30D5C8'\n",
    "vyber1.place(relx=0.17, rely=0.15, relwidth=0.65, relheight=0.09)\n",
    "vyber1.config(font=('calibri', '10'))\n",
    "\n",
    "# Second drop-down menu.\n",
    "chosen2 = tk.StringVar(value='Shift Starting Hour')\n",
    "vyber2 = tk.OptionMenu(roo, chosen2, *start_shift)\n",
    "vyber2['bg'] = '#30D5C8'\n",
    "vyber2.place(relx=0.17, rely=0.26, relwidth=0.65, relheight=0.09)\n",
    "vyber2.config(font=('calibri', '10'))\n",
    "\n",
    "# Third drop-down menu.\n",
    "chosen3 = tk.StringVar(value='Shift Ending Hour')\n",
    "vyber3 = tk.OptionMenu(roo, chosen3, *end_shift)\n",
    "vyber3['bg'] = '#30D5C8'\n",
    "vyber3.place(relx=0.17, rely=0.37, relwidth=0.65, relheight=0.09)\n",
    "vyber3.config(font=('calibri', '10'))\n",
    "\n",
    "# Fourth drop-down menu.\n",
    "chosen4 = tk.StringVar(value='Weekday')\n",
    "vyber4 = tk.OptionMenu(roo, chosen4, *new_week_order)\n",
    "vyber4['bg'] = '#30D5C8'\n",
    "vyber4.place(relx=0.17, rely=0.48, relwidth=0.65, relheight=0.09)\n",
    "vyber4.config(font=('calibri', '10'))\n",
    "\n",
    "# Fifth drop-down menu.\n",
    "chosen5 = tk.StringVar(value='Workplace Preference')\n",
    "vyber5 = tk.OptionMenu(roo, chosen5, *workplace)\n",
    "vyber5['bg'] = '#30D5C8'\n",
    "vyber5.place(relx=0.17, rely=0.59, relwidth=0.65, relheight=0.09)\n",
    "vyber5.config(font=('calibri', '10'))"
   ]
  },
  {
   "cell_type": "code",
   "execution_count": null,
   "metadata": {},
   "outputs": [],
   "source": [
    "def total_shift_hours(start, end):\n",
    "    format = \"%H:%M:%S\"\n",
    "    start = datetime.strptime(start, format)\n",
    "    starting_hour = start.hour\n",
    "\n",
    "    end = datetime.strptime(end, format)\n",
    "    ending_hour = end.hour\n",
    "    \n",
    "    total_hours = ending_hour - starting_hour\n",
    "    return total_hours\n",
    "\n",
    "def show_chosen_info():\n",
    "    analyst = chosen1.get()\n",
    "    start = chosen2.get()\n",
    "    end = chosen3.get()\n",
    "    total_hours = total_shift_hours(start, end)\n",
    "    day = chosen4.get()\n",
    "    place = chosen5.get()\n",
    "    info = [analyst, start, end, total_hours, day, place]\n",
    "    return info"
   ]
  },
  {
   "cell_type": "code",
   "execution_count": null,
   "metadata": {},
   "outputs": [],
   "source": [
    "def mapping_the_request():\n",
    "    global row\n",
    "    global day\n",
    "    choices = show_chosen_info()\n",
    "    cols = ['Analyst','In', 'Out', 'Hours', 'Weekday', 'Workplace']\n",
    "    d = dict(zip(cols, choices))\n",
    "    day = d['Weekday']\n",
    "    temp_day_column = full_week[day]\n",
    "    \n",
    "    for index, col in full_week.iterrows():\n",
    "        if col[0] == d['Analyst'] and d[\"Weekday\"] in full_week.columns:\n",
    "            row = index\n",
    "            \n",
    "    del d['Weekday'] \n",
    "    del d['Analyst']\n",
    "    request = list(d.values())\n",
    "    temp_day_column.iloc[row] = request\n",
    "    full_week[day] = temp_day_column\n",
    "    return full_week"
   ]
  },
  {
   "cell_type": "code",
   "execution_count": null,
   "metadata": {},
   "outputs": [],
   "source": [
    "def open_mini_window():\n",
    "    ro = Toplevel(roo)\n",
    "    ro.title('Shift Request')\n",
    "    ro.geometry('250x110')\n",
    "    picture = PhotoImage(file='JUSTT bg.png', master=ro)\n",
    "    ro.iconbitmap('JUSTT Logo.ico')\n",
    "\n",
    "    canvas = Canvas(ro, width=250, height=120)\n",
    "    canvas.pack(fill='both',expand=True)\n",
    "    canvas.create_image(0, 0, image=picture)\n",
    "\n",
    "    canvas.create_text(125, 30, text=\"Request Successfully Saved! \\nDo You Want To Enter Another Shift?\",\n",
    "            font=('calibri', 11), fill='white')\n",
    "    \n",
    "    def save_yes_button_press():\n",
    "        mapping_the_request()\n",
    "        ro.destroy()\n",
    "        \n",
    "    def save_no_button_press():\n",
    "        mapping_the_request()\n",
    "        roo.destroy()\n",
    "\n",
    "    yes_button = tk.Button(ro, text='Yes', font=('calibri', '10'), command=save_yes_button_press)\n",
    "    yes_button.place(relx=0.38, rely=0.70)\n",
    "    yes_button['bg'] = '#30D5C8'\n",
    "\n",
    "    no_button = tk.Button(ro, text='No', font=('calibri', '10'), command=save_no_button_press)\n",
    "    no_button.place(relx=0.5, rely=0.70)\n",
    "    no_button['bg'] = '#30D5C8'\n",
    "\n",
    "    ro.resizable(False, False)\n",
    "    ro.mainloop()"
   ]
  },
  {
   "cell_type": "code",
   "execution_count": null,
   "metadata": {},
   "outputs": [],
   "source": [
    "def open_window():\n",
    "    open_windows_commands = {}\n",
    "    key = f'{chosen1.get()}{chosen2.get()}{chosen3.get()}{chosen4.get()}{chosen5.get()}'  # Create key from choices.\n",
    "    open_window_command = open_windows_commands.get(key, show_chosen_info)\n",
    "    open_window_command()\n",
    "    open_mini_window()\n",
    "\n",
    "btn = tk.Button(roo, text='Save My Request',\n",
    "                font=('calibri', '10'), command=open_mini_window) # A clickable button to save the request.\n",
    "btn.place(relx=0.32, rely=0.80)\n",
    "btn['bg'] = '#30D5C8'\n",
    "\n",
    "roo.iconbitmap('JUSTT Logo.ico')\n",
    "roo.mainloop()"
   ]
  },
  {
   "cell_type": "markdown",
   "metadata": {},
   "source": [
    "# DO NOT DELETE THE ABOVE TOM!!!!!!!!!!!!!!!!!!"
   ]
  },
  {
   "cell_type": "code",
   "execution_count": null,
   "metadata": {},
   "outputs": [],
   "source": [
    "full_week.loc[full_week['Analyst'] == 'Tom Horvatt']"
   ]
  },
  {
   "cell_type": "code",
   "execution_count": null,
   "metadata": {},
   "outputs": [],
   "source": [
    "full_week[['Analyst','Sunday']].iloc[12]"
   ]
  },
  {
   "cell_type": "code",
   "execution_count": null,
   "metadata": {},
   "outputs": [],
   "source": []
  },
  {
   "cell_type": "code",
   "execution_count": null,
   "metadata": {},
   "outputs": [],
   "source": []
  },
  {
   "cell_type": "code",
   "execution_count": null,
   "metadata": {},
   "outputs": [],
   "source": []
  },
  {
   "cell_type": "code",
   "execution_count": null,
   "metadata": {},
   "outputs": [],
   "source": []
  },
  {
   "cell_type": "code",
   "execution_count": 29,
   "metadata": {},
   "outputs": [
    {
     "data": {
      "text/plain": [
       "'C:\\\\find me.docx'"
      ]
     },
     "execution_count": 29,
     "metadata": {},
     "output_type": "execute_result"
    }
   ],
   "source": [
    "def get_file_dir(file): # A function to locate the file directory\n",
    "    absolute_path = Path(file).absolute()\n",
    "    return r''+str(absolute_path)\n",
    "    \n",
    "get_file_dir('find me.docx')"
   ]
  },
  {
   "cell_type": "code",
   "execution_count": 15,
   "metadata": {},
   "outputs": [
    {
     "data": {
      "text/plain": [
       "'C:\\\\Users\\\\User\\\\Desktop\\\\Portfolio Projects\\\\weekly schedule project\\\\find me.docx'"
      ]
     },
     "execution_count": 15,
     "metadata": {},
     "output_type": "execute_result"
    }
   ],
   "source": [
    "def get_file_dir(file): # A function to locate the file directory\n",
    "    absolute_path = Path(file).absolute()\n",
    "    return r''+str(absolute_path)\n",
    "\n",
    "get_file_dir('find me.docx')"
   ]
  },
  {
   "cell_type": "code",
   "execution_count": 9,
   "metadata": {},
   "outputs": [
    {
     "name": "stdout",
     "output_type": "stream",
     "text": [
      "        Analyst Sunday                     Monday                     Tuesday  \\\n",
      "                    In Out Hours Workplace     In Out Hours Workplace      In   \n",
      "12  Tom Horvatt                                                                 \n",
      "\n",
      "    ... Wednesday                     Thursday                      \\\n",
      "    ...        In Out Hours Workplace       In Out Hours Workplace   \n",
      "12  ...                                                              \n",
      "\n",
      "   Total Hours Notes  \n",
      "                      \n",
      "12           0        \n",
      "\n",
      "[1 rows x 23 columns]\n"
     ]
    }
   ],
   "source": [
    "def start_all_functions():\n",
    "    df = pd.read_excel(r'C:\\Users\\User\\Desktop\\Portfolio Projects\\weekly schedule project\\weekly schedule chbks analysts for the names.xlsx' ,skiprows=4,\n",
    "                   usecols = ['Unnamed: 0']).rename(columns={'Unnamed: 0':'Analysts'}) # Reading an excel sheet with\n",
    "                                                                                       # the names.\n",
    "\n",
    "    df = df[:-2] # Retrieving only the analyst names since the last two rows are 'Total Hours' and 'Office'\n",
    "\n",
    "    analysts = df['Analysts'].tolist() # Analysts names.\n",
    "\n",
    "    time_range = pd.date_range('08:00','20:00',freq='1h')\n",
    "    time_lst = time_range.strftime('%H:%M:%S')\n",
    "    time_lst # List that have time range between 8AM to 8PM.\n",
    "\n",
    "    start_shift = time_lst.copy().tolist() # Time range to use for entering the hour you start your shift.\n",
    "    end_shift = time_lst.copy().tolist() # Time range to use for entering the hour you end your shift.\n",
    "\n",
    "    days = list(calendar.day_name)\n",
    "    sunday = days[-1]\n",
    "    rest_of_the_week = days[:-3]\n",
    "    week = [sunday] + rest_of_the_week # An organized week list from Sunday-Thursday.\n",
    "\n",
    "    workplace = ['Home','Office'] # Option where you choose to work.\n",
    "\n",
    "    headers = ['In', 'Out', 'Hours', 'Workplace'] # List of the subcolumn name.\n",
    "\n",
    "    mux = pd.MultiIndex.from_product([week, headers]) # Creating the MultiIndex dataframe.\n",
    "    full_week = pd.DataFrame(columns=mux)\n",
    "    full_week.insert(0, 'Analyst', df['Analysts'].str.title())\n",
    "    full_week.insert(21, column='Total Hours',value=0)\n",
    "    full_week.insert(22, column='Notes',value='')\n",
    "    full_week = full_week.fillna('')\n",
    "\n",
    "    # Creating the GUI window.\n",
    "    roo = Tk()\n",
    "    roo.title('Shift Request')\n",
    "    roo.geometry('600x450')\n",
    "    picture = PhotoImage(file=r'C:\\Users\\User\\Desktop\\Portfolio Projects\\weekly schedule project\\JUSTT BG For Main Window.png', master=roo)\n",
    "    bg = Label(roo, image=picture)\n",
    "    bg.place(x=0, y=0, relwidth=1, relheight=1)\n",
    "\n",
    "    # Changing the combobox menu style.\n",
    "    roo.option_add('*TCombobox*Listbox.selectBackground', '#30D5C8') # change highlight color\n",
    "    roo.option_add('*TCombobox*Listbox.selectForeground', 'white') # change text color\n",
    "    style = ttk.Style()\n",
    "    style.configure('TCombobox', background='#30D5C8') # Create a border around the combobox button.\n",
    "    style.map('TCombobox', foreground=[('hover', 'black')], background=[('hover', '#30D5C8')]) # style the combobox when\n",
    "                                                                                               # it's beeing hovered on.\n",
    "\n",
    "    def defocus(event): # A function to stop the highlighting when choosing a value.\n",
    "        event.widget.master.focus_set()\n",
    "\n",
    "    # First drop-down menu.\n",
    "    chosen1 = tk.StringVar(value='Analyst Name')\n",
    "    vyber1 = ttk.Combobox(roo, textvariable=chosen1, state='readonly')\n",
    "    vyber1['values'] = analysts\n",
    "    vyber1.bind(\"<FocusIn>\", defocus)\n",
    "    vyber1.place(relx=0.27, rely=0.05, relwidth=0.45, relheight=0.09)\n",
    "    vyber1.config(font=('calibri', '13'))\n",
    "\n",
    "    # Second drop-down menu.\n",
    "    chosen2 = tk.StringVar(value='Shift Starting Hour')\n",
    "    vyber2 = ttk.Combobox(roo, textvariable=chosen2, state='readonly')\n",
    "    vyber2['values'] = start_shift\n",
    "    vyber2.bind(\"<FocusIn>\", defocus)\n",
    "    vyber2.place(relx=0.27, rely=0.16, relwidth=0.45, relheight=0.09)\n",
    "    vyber2.config(font=('calibri', '13'))\n",
    "\n",
    "    # Third drop-down menu.\n",
    "    chosen3 = tk.StringVar(value='Shift Ending Hour')\n",
    "    vyber3 = ttk.Combobox(roo, textvariable=chosen3, state='readonly')\n",
    "    vyber3['values'] = end_shift\n",
    "    vyber3.bind(\"<FocusIn>\", defocus)\n",
    "    vyber3.place(relx=0.27, rely=0.27, relwidth=0.45, relheight=0.09)\n",
    "    vyber3.config(font=('calibri', '13'))\n",
    "\n",
    "    # Fourth drop-down menu.\n",
    "    chosen4 = tk.StringVar(value='Weekday')\n",
    "    vyber4 = ttk.Combobox(roo, textvariable=chosen4, state='readonly')\n",
    "    vyber4['value'] = week\n",
    "    vyber4.bind(\"<FocusIn>\", defocus)\n",
    "    vyber4.place(relx=0.27, rely=0.38, relwidth=0.45, relheight=0.09)\n",
    "    vyber4.config(font=('calibri', '13'))\n",
    "\n",
    "    # Fifth drop-down menu.\n",
    "    chosen5 = tk.StringVar(value='Workplace Preference')\n",
    "    vyber5 = ttk.Combobox(roo, textvariable=chosen5, state='readonly')\n",
    "    vyber5['value'] = workplace\n",
    "    vyber5.bind(\"<FocusIn>\", defocus)\n",
    "    vyber5.place(relx=0.27, rely=0.49, relwidth=0.45, relheight=0.09)\n",
    "    vyber5.config(font=('calibri', '13'))\n",
    "\n",
    "    # Creating the notes textbox and the function to retrieve the input.\n",
    "    def retrieve_input():\n",
    "        input_val = text_box.get('1.0','end-1c')\n",
    "        return input_val\n",
    "\n",
    "    val = tk.StringVar(value='Notes...').get()\n",
    "    text_box = Text(roo, width=45, height=6, font=('calibri','13'))\n",
    "    text_box.pack(expand=True, anchor='s', padx=10, pady=50)\n",
    "    text_box.insert(INSERT, val)\n",
    "    text_box.config(highlightthickness=1, highlightbackground='#30D5C8')\n",
    "    text_box.pack()\n",
    "\n",
    "    def total_shift_hours(start, end): # Function to calculate the total hours of the shift.\n",
    "        format = \"%H:%M:%S\"\n",
    "        start = datetime.strptime(start, format)\n",
    "        starting_hour = start.hour\n",
    "\n",
    "        end = datetime.strptime(end, format)\n",
    "        ending_hour = end.hour\n",
    "\n",
    "        total_hours = ending_hour - starting_hour\n",
    "        return total_hours\n",
    "\n",
    "    def show_chosen_info(): # Function to organize all the input inside of a list.\n",
    "        analyst = chosen1.get()\n",
    "        start = chosen2.get()\n",
    "        end = chosen3.get()\n",
    "        total_hours = total_shift_hours(start, end)\n",
    "        day = chosen4.get()\n",
    "        place = chosen5.get()\n",
    "        notes = retrieve_input()\n",
    "        info = [analyst, start, end, total_hours, day, place, notes]\n",
    "        return info\n",
    "\n",
    "    def calcualte_total_hours_in_the_week(): # Function to calcualte the hours for the full week.\n",
    "        global row\n",
    "        temp_total_hours_in_the_week_column = full_week['Total Hours']\n",
    "        choices = show_chosen_info()\n",
    "        cols = ['Analyst','In', 'Out', 'Hours', 'Weekday', 'Workplace', 'Notes']\n",
    "        d = dict(zip(cols, choices))\n",
    "        total_hours_in_the_week = 0\n",
    "\n",
    "        for index, col in full_week.iterrows():\n",
    "            if col[0] == d['Analyst']:\n",
    "                row = index\n",
    "\n",
    "        full_week[('Sunday', 'Hours')] = full_week[('Sunday', 'Hours')].replace('','0').astype(int)\n",
    "        full_week[('Monday', 'Hours')] = full_week[('Monday', 'Hours')].replace('','0').astype(int)\n",
    "        full_week[('Tuesday', 'Hours')] = full_week[('Tuesday', 'Hours')].replace('','0').astype(int)\n",
    "        full_week[('Wednesday', 'Hours')] = full_week[('Wednesday', 'Hours')].replace('','0').astype(int)\n",
    "        full_week[('Thursday', 'Hours')] = full_week[('Thursday', 'Hours')].replace('','0').astype(int)\n",
    "\n",
    "        day1 = full_week[('Sunday', 'Hours')].iloc[row]\n",
    "        day2 = full_week[('Monday', 'Hours')].iloc[row]\n",
    "        day3 = full_week[('Tuesday', 'Hours')].iloc[row]\n",
    "        day4 = full_week[('Wednesday', 'Hours')].iloc[row]\n",
    "        day5 = full_week[('Thursday', 'Hours')].iloc[row]\n",
    "\n",
    "        total_hours_in_the_week = day1+day2+day3+day4+day5\n",
    "        temp_total_hours_in_the_week_column.iloc[row] = total_hours_in_the_week\n",
    "        print(temp_total_hours_in_the_week_column.iloc[row])\n",
    "        full_week['Total Hours'] = temp_total_hours_in_the_week_column\n",
    "        print(full_week['Total Hours'].iloc[row])\n",
    "        return full_week\n",
    "\n",
    "    def mapping_the_request(): # Mapping the input that the user gave into the correct spots.\n",
    "        global row\n",
    "        global day\n",
    "        global analyst_notes\n",
    "        choices = show_chosen_info()\n",
    "        cols = ['Analyst','In', 'Out', 'Hours', 'Weekday', 'Workplace', 'Notes']\n",
    "        d = dict(zip(cols, choices))\n",
    "        day = d['Weekday']\n",
    "        analyst_notes = d['Notes']\n",
    "        temp_notes_column = full_week['Notes']\n",
    "        temp_day_column = full_week[day]\n",
    "\n",
    "        for index, col in full_week.iterrows():\n",
    "            if col[0] == d['Analyst'] and d[\"Weekday\"] in full_week.columns:\n",
    "                row = index\n",
    "\n",
    "        del d['Weekday'] \n",
    "        del d['Analyst']\n",
    "        request = list(d.values())\n",
    "        temp_notes_column.iloc[row] = request[-1]\n",
    "        full_week['Notes'] = temp_notes_column\n",
    "        request = request[:-1]\n",
    "        temp_day_column.iloc[row] = request\n",
    "        full_week[day] = temp_day_column\n",
    "        calcualte_total_hours_in_the_week()\n",
    "        return full_week\n",
    "\n",
    "    def open_mini_window(): # Function to open the top level window to ask the user if they want another shift.\n",
    "        ro = Toplevel(roo)\n",
    "        ro.title('Shift Request')\n",
    "        ro.geometry('400x250')\n",
    "        top_level_picture = PhotoImage(file=r'C:\\Users\\User\\Desktop\\Portfolio Projects\\weekly schedule project\\JUSTT BG For Top Level Window.png', master=ro)\n",
    "        top_level_bg = Label(ro, image=top_level_picture)\n",
    "        top_level_bg.place(x=0, y=0, relwidth=1, relheight=1)\n",
    "        ro.iconbitmap(r'C:\\Users\\User\\Desktop\\Portfolio Projects\\weekly schedule project\\JUSTT Logo.ico')\n",
    "\n",
    "        def save_yes_button_press(): # Saving the user choices and allowing him to go back to enter another shift.\n",
    "            retrieve_input()\n",
    "            mapping_the_request()\n",
    "            ro.destroy()\n",
    "\n",
    "        def save_no_button_press(): # Saving the user choices and closing the whole program.\n",
    "            retrieve_input()\n",
    "            mapping_the_request()\n",
    "            roo.destroy()\n",
    "\n",
    "        yes_button = tk.Button(ro, text='Yes', font=('calibri', '13'), fg='white', command=save_yes_button_press)\n",
    "        yes_button.place(relx=0.05, rely=0.80,  width=150, height=35)\n",
    "        yes_button['bg'] = '#550a8a'\n",
    "\n",
    "        no_button = tk.Button(ro, text='No', font=('calibri', '13'), fg='white', command=save_no_button_press)\n",
    "        no_button.place(relx=0.55, rely=0.80,  width=150, height=35)\n",
    "        no_button['bg'] = '#550a8a'\n",
    "\n",
    "        ro.resizable(False, False)\n",
    "        ro.mainloop()\n",
    "\n",
    "    def open_window(): # The function that opens the main window to insert input.\n",
    "        open_windows_commands = {}\n",
    "        key = f'{chosen1.get()}{chosen2.get()}{chosen3.get()}{chosen4.get()}{chosen5.get()}{retrieve_input()}'  # Create key from choices.\n",
    "        open_window_command = open_windows_commands.get(key, show_chosen_info)\n",
    "        open_window_command()\n",
    "        open_mini_window()\n",
    "\n",
    "    btn = tk.Button(roo, text='Save My Request',\n",
    "                    font=('calibri', '13'), fg='white', command=open_mini_window) # A clickable button to save the request.\n",
    "    btn.place(x=175, y=410, width=250, height=30)\n",
    "    btn['bg'] = '#550a8a'\n",
    "\n",
    "    roo.iconbitmap(r'C:\\Users\\User\\Desktop\\Portfolio Projects\\weekly schedule project\\JUSTT Logo.ico')\n",
    "    roo.resizable(False, False)\n",
    "    roo.mainloop()\n",
    "    print(full_week.loc[full_week['Analyst'] == 'Tom Horvatt'])\n",
    "#     full_week.to_excel(r'C:\\Users\\User\\Desktop\\Portfolio Projects\\weekly schedule project\\Weekly Schedule.xlsx')\n",
    "\n",
    "if __name__ == '__main__':\n",
    "    start_all_functions()"
   ]
  },
  {
   "cell_type": "code",
   "execution_count": 4,
   "metadata": {},
   "outputs": [
    {
     "ename": "NameError",
     "evalue": "name 'full_week' is not defined",
     "output_type": "error",
     "traceback": [
      "\u001b[1;31m---------------------------------------------------------------------------\u001b[0m",
      "\u001b[1;31mNameError\u001b[0m                                 Traceback (most recent call last)",
      "\u001b[1;32m<ipython-input-4-3622d93b6028>\u001b[0m in \u001b[0;36m<module>\u001b[1;34m\u001b[0m\n\u001b[1;32m----> 1\u001b[1;33m \u001b[0mfull_week\u001b[0m\u001b[1;33m[\u001b[0m\u001b[1;34m'Tuesday'\u001b[0m\u001b[1;33m]\u001b[0m\u001b[1;33m.\u001b[0m\u001b[0miloc\u001b[0m\u001b[1;33m[\u001b[0m\u001b[1;36m12\u001b[0m\u001b[1;33m]\u001b[0m\u001b[1;33m\u001b[0m\u001b[1;33m\u001b[0m\u001b[0m\n\u001b[0m",
      "\u001b[1;31mNameError\u001b[0m: name 'full_week' is not defined"
     ]
    }
   ],
   "source": [
    "full_week['Tuesday'].iloc[12]"
   ]
  },
  {
   "cell_type": "code",
   "execution_count": null,
   "metadata": {},
   "outputs": [],
   "source": [
    "full_week['Sunday'].iloc[12]"
   ]
  },
  {
   "cell_type": "code",
   "execution_count": 4,
   "metadata": {},
   "outputs": [
    {
     "name": "stdout",
     "output_type": "stream",
     "text": [
      "C:\\Users\\User\\Desktop\\Portfolio Projects\\weekly schedule project\\JUSTT Logo.txt\n"
     ]
    }
   ],
   "source": [
    "from pathlib import Path\n",
    "\n",
    "absolute_path = Path('JUSTT Logo.txt').absolute()"
   ]
  },
  {
   "cell_type": "code",
   "execution_count": null,
   "metadata": {},
   "outputs": [],
   "source": [
    "# full_week.to_excel('Weekly.xlsx')"
   ]
  }
 ],
 "metadata": {
  "celltoolbar": "Edit Metadata",
  "kernelspec": {
   "display_name": "Python 3",
   "language": "python",
   "name": "python3"
  },
  "language_info": {
   "codemirror_mode": {
    "name": "ipython",
    "version": 3
   },
   "file_extension": ".py",
   "mimetype": "text/x-python",
   "name": "python",
   "nbconvert_exporter": "python",
   "pygments_lexer": "ipython3",
   "version": "3.8.3"
  }
 },
 "nbformat": 4,
 "nbformat_minor": 2
}

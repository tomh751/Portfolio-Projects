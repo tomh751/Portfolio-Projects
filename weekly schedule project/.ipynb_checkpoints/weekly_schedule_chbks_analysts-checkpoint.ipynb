{
 "cells": [
  {
   "cell_type": "code",
   "execution_count": 1,
   "metadata": {
    "scrolled": true
   },
   "outputs": [],
   "source": [
    "# Importing the libraries i'll use.\n",
    "import pandas as pd\n",
    "import numpy as np\n",
    "from datetime import datetime, timedelta\n",
    "import time\n",
    "import tkinter as tk\n",
    "from tkinter import messagebox\n",
    "from tkinter import *\n",
    "import sys\n",
    "import calendar"
   ]
  },
  {
   "cell_type": "markdown",
   "metadata": {},
   "source": [
    "# Reading a weekly schedule file"
   ]
  },
  {
   "cell_type": "code",
   "execution_count": 2,
   "metadata": {},
   "outputs": [],
   "source": [
    "# Reading a weekly schedule file in order to get the analysts names.\n",
    "\n",
    "df = pd.read_excel('weekly schedule chbks analysts for the names.xlsx',skiprows=4,\n",
    "                   usecols = ['Unnamed: 0']).rename(columns={'Unnamed: 0':'Analysts'})"
   ]
  },
  {
   "cell_type": "code",
   "execution_count": 3,
   "metadata": {
    "scrolled": false
   },
   "outputs": [
    {
     "data": {
      "text/html": [
       "<div>\n",
       "<style scoped>\n",
       "    .dataframe tbody tr th:only-of-type {\n",
       "        vertical-align: middle;\n",
       "    }\n",
       "\n",
       "    .dataframe tbody tr th {\n",
       "        vertical-align: top;\n",
       "    }\n",
       "\n",
       "    .dataframe thead th {\n",
       "        text-align: right;\n",
       "    }\n",
       "</style>\n",
       "<table border=\"1\" class=\"dataframe\">\n",
       "  <thead>\n",
       "    <tr style=\"text-align: right;\">\n",
       "      <th></th>\n",
       "      <th>Analysts</th>\n",
       "    </tr>\n",
       "  </thead>\n",
       "  <tbody>\n",
       "    <tr>\n",
       "      <th>0</th>\n",
       "      <td>Shifra Brandt</td>\n",
       "    </tr>\n",
       "    <tr>\n",
       "      <th>1</th>\n",
       "      <td>Anna gordienko</td>\n",
       "    </tr>\n",
       "    <tr>\n",
       "      <th>2</th>\n",
       "      <td>Rachel Aharonov</td>\n",
       "    </tr>\n",
       "    <tr>\n",
       "      <th>3</th>\n",
       "      <td>Maya Neiman</td>\n",
       "    </tr>\n",
       "    <tr>\n",
       "      <th>4</th>\n",
       "      <td>Nitzan Eltahan</td>\n",
       "    </tr>\n",
       "  </tbody>\n",
       "</table>\n",
       "</div>"
      ],
      "text/plain": [
       "          Analysts\n",
       "0    Shifra Brandt\n",
       "1   Anna gordienko\n",
       "2  Rachel Aharonov\n",
       "3      Maya Neiman\n",
       "4   Nitzan Eltahan"
      ]
     },
     "execution_count": 3,
     "metadata": {},
     "output_type": "execute_result"
    }
   ],
   "source": [
    "df.head()"
   ]
  },
  {
   "cell_type": "markdown",
   "metadata": {},
   "source": [
    "# Creating the dataframe"
   ]
  },
  {
   "cell_type": "code",
   "execution_count": 4,
   "metadata": {},
   "outputs": [],
   "source": [
    "analysts = df['Analysts'] # Analysts names.\n",
    "\n",
    "time_range = pd.date_range('08:00','20:00',freq='1h')\n",
    "time_lst = time_range.strftime('%H:%M:%S')\n",
    "time_lst # List that have time range between 8AM to 8PM.\n",
    "\n",
    "start_shift = time_lst.copy() # Time range to use for entering the hour you start your shift.\n",
    "end_shift = time_lst.copy() # Time range to use for entering the hour you end your shift.\n",
    "\n",
    "days = list(calendar.day_name) \n",
    "sunday = days[-1]\n",
    "rest_of_the_week = days[:-1]\n",
    "new_week_order = [sunday] + rest_of_the_week # List of weekday names.\n",
    "\n",
    "workplace = ['Home','Office'] # Option where you choose to work."
   ]
  },
  {
   "cell_type": "code",
   "execution_count": 5,
   "metadata": {},
   "outputs": [],
   "source": [
    "headers = ['In', 'Out', 'Hours', 'Workplace'] # List of the subcolumn name.\n",
    "\n",
    "days = list(calendar.day_name)\n",
    "sunday = days[-1]\n",
    "rest_of_the_week = days[:-3]\n",
    "week = [sunday] + rest_of_the_week # An organized week list from Sunday-Thursday.\n",
    "\n",
    "mux = pd.MultiIndex.from_product([week, headers]) # Creating the MultiIndex dataframe.\n",
    "full_week = pd.DataFrame(columns=mux)\n",
    "full_week.insert(0, 'Analyst', df['Analysts'].str.title())\n",
    "full_week = full_week.fillna('')"
   ]
  },
  {
   "cell_type": "code",
   "execution_count": 6,
   "metadata": {
    "scrolled": false
   },
   "outputs": [
    {
     "data": {
      "text/html": [
       "<div>\n",
       "<style scoped>\n",
       "    .dataframe tbody tr th:only-of-type {\n",
       "        vertical-align: middle;\n",
       "    }\n",
       "\n",
       "    .dataframe tbody tr th {\n",
       "        vertical-align: top;\n",
       "    }\n",
       "\n",
       "    .dataframe thead tr th {\n",
       "        text-align: left;\n",
       "    }\n",
       "</style>\n",
       "<table border=\"1\" class=\"dataframe\">\n",
       "  <thead>\n",
       "    <tr>\n",
       "      <th></th>\n",
       "      <th>Analyst</th>\n",
       "      <th colspan=\"4\" halign=\"left\">Sunday</th>\n",
       "      <th colspan=\"4\" halign=\"left\">Monday</th>\n",
       "      <th colspan=\"4\" halign=\"left\">Tuesday</th>\n",
       "      <th colspan=\"4\" halign=\"left\">Wednesday</th>\n",
       "      <th colspan=\"4\" halign=\"left\">Thursday</th>\n",
       "    </tr>\n",
       "    <tr>\n",
       "      <th></th>\n",
       "      <th></th>\n",
       "      <th>In</th>\n",
       "      <th>Out</th>\n",
       "      <th>Hours</th>\n",
       "      <th>Workplace</th>\n",
       "      <th>In</th>\n",
       "      <th>Out</th>\n",
       "      <th>Hours</th>\n",
       "      <th>Workplace</th>\n",
       "      <th>In</th>\n",
       "      <th>...</th>\n",
       "      <th>Hours</th>\n",
       "      <th>Workplace</th>\n",
       "      <th>In</th>\n",
       "      <th>Out</th>\n",
       "      <th>Hours</th>\n",
       "      <th>Workplace</th>\n",
       "      <th>In</th>\n",
       "      <th>Out</th>\n",
       "      <th>Hours</th>\n",
       "      <th>Workplace</th>\n",
       "    </tr>\n",
       "  </thead>\n",
       "  <tbody>\n",
       "    <tr>\n",
       "      <th>0</th>\n",
       "      <td>Shifra Brandt</td>\n",
       "      <td></td>\n",
       "      <td></td>\n",
       "      <td></td>\n",
       "      <td></td>\n",
       "      <td></td>\n",
       "      <td></td>\n",
       "      <td></td>\n",
       "      <td></td>\n",
       "      <td></td>\n",
       "      <td>...</td>\n",
       "      <td></td>\n",
       "      <td></td>\n",
       "      <td></td>\n",
       "      <td></td>\n",
       "      <td></td>\n",
       "      <td></td>\n",
       "      <td></td>\n",
       "      <td></td>\n",
       "      <td></td>\n",
       "      <td></td>\n",
       "    </tr>\n",
       "    <tr>\n",
       "      <th>1</th>\n",
       "      <td>Anna Gordienko</td>\n",
       "      <td></td>\n",
       "      <td></td>\n",
       "      <td></td>\n",
       "      <td></td>\n",
       "      <td></td>\n",
       "      <td></td>\n",
       "      <td></td>\n",
       "      <td></td>\n",
       "      <td></td>\n",
       "      <td>...</td>\n",
       "      <td></td>\n",
       "      <td></td>\n",
       "      <td></td>\n",
       "      <td></td>\n",
       "      <td></td>\n",
       "      <td></td>\n",
       "      <td></td>\n",
       "      <td></td>\n",
       "      <td></td>\n",
       "      <td></td>\n",
       "    </tr>\n",
       "    <tr>\n",
       "      <th>2</th>\n",
       "      <td>Rachel Aharonov</td>\n",
       "      <td></td>\n",
       "      <td></td>\n",
       "      <td></td>\n",
       "      <td></td>\n",
       "      <td></td>\n",
       "      <td></td>\n",
       "      <td></td>\n",
       "      <td></td>\n",
       "      <td></td>\n",
       "      <td>...</td>\n",
       "      <td></td>\n",
       "      <td></td>\n",
       "      <td></td>\n",
       "      <td></td>\n",
       "      <td></td>\n",
       "      <td></td>\n",
       "      <td></td>\n",
       "      <td></td>\n",
       "      <td></td>\n",
       "      <td></td>\n",
       "    </tr>\n",
       "    <tr>\n",
       "      <th>3</th>\n",
       "      <td>Maya Neiman</td>\n",
       "      <td></td>\n",
       "      <td></td>\n",
       "      <td></td>\n",
       "      <td></td>\n",
       "      <td></td>\n",
       "      <td></td>\n",
       "      <td></td>\n",
       "      <td></td>\n",
       "      <td></td>\n",
       "      <td>...</td>\n",
       "      <td></td>\n",
       "      <td></td>\n",
       "      <td></td>\n",
       "      <td></td>\n",
       "      <td></td>\n",
       "      <td></td>\n",
       "      <td></td>\n",
       "      <td></td>\n",
       "      <td></td>\n",
       "      <td></td>\n",
       "    </tr>\n",
       "    <tr>\n",
       "      <th>4</th>\n",
       "      <td>Nitzan Eltahan</td>\n",
       "      <td></td>\n",
       "      <td></td>\n",
       "      <td></td>\n",
       "      <td></td>\n",
       "      <td></td>\n",
       "      <td></td>\n",
       "      <td></td>\n",
       "      <td></td>\n",
       "      <td></td>\n",
       "      <td>...</td>\n",
       "      <td></td>\n",
       "      <td></td>\n",
       "      <td></td>\n",
       "      <td></td>\n",
       "      <td></td>\n",
       "      <td></td>\n",
       "      <td></td>\n",
       "      <td></td>\n",
       "      <td></td>\n",
       "      <td></td>\n",
       "    </tr>\n",
       "  </tbody>\n",
       "</table>\n",
       "<p>5 rows × 21 columns</p>\n",
       "</div>"
      ],
      "text/plain": [
       "           Analyst Sunday                     Monday                      \\\n",
       "                       In Out Hours Workplace     In Out Hours Workplace   \n",
       "0    Shifra Brandt                                                         \n",
       "1   Anna Gordienko                                                         \n",
       "2  Rachel Aharonov                                                         \n",
       "3      Maya Neiman                                                         \n",
       "4   Nitzan Eltahan                                                         \n",
       "\n",
       "  Tuesday  ...                 Wednesday                     Thursday      \\\n",
       "       In  ... Hours Workplace        In Out Hours Workplace       In Out   \n",
       "0          ...                                                              \n",
       "1          ...                                                              \n",
       "2          ...                                                              \n",
       "3          ...                                                              \n",
       "4          ...                                                              \n",
       "\n",
       "                   \n",
       "  Hours Workplace  \n",
       "0                  \n",
       "1                  \n",
       "2                  \n",
       "3                  \n",
       "4                  \n",
       "\n",
       "[5 rows x 21 columns]"
      ]
     },
     "execution_count": 6,
     "metadata": {},
     "output_type": "execute_result"
    }
   ],
   "source": [
    "full_week.head()"
   ]
  },
  {
   "cell_type": "markdown",
   "metadata": {},
   "source": [
    "# Creating the GUI"
   ]
  },
  {
   "cell_type": "code",
   "execution_count": 7,
   "metadata": {},
   "outputs": [],
   "source": [
    "# Creating the GUI window.\n",
    "roo = Tk()\n",
    "roo.title('Shift Request')\n",
    "roo.geometry('300x300')\n",
    "picture = PhotoImage(file='Justt BG.png', master=roo)\n",
    "bg = Label(roo, image=picture)\n",
    "bg.place(x=0, y=0, relwidth=1, relheight=1)"
   ]
  },
  {
   "cell_type": "code",
   "execution_count": 8,
   "metadata": {},
   "outputs": [],
   "source": [
    "# First drop-down menu.\n",
    "chosen1 = tk.StringVar(value='Analyst Name')\n",
    "vyber1 = tk.OptionMenu(roo, chosen1, *analysts)\n",
    "vyber1['bg'] = '#30D5C8'\n",
    "vyber1.place(relx=0.20, rely=0.15, relwidth=0.65, relheight=0.09)\n",
    "vyber1.config(font=('calibri', '10'))\n",
    "\n",
    "# Second drop-down menu.\n",
    "chosen2 = tk.StringVar(value='Shift Starting Hour')\n",
    "vyber2 = tk.OptionMenu(roo, chosen2, *start_shift)\n",
    "vyber2['bg'] = '#30D5C8'\n",
    "vyber2.place(relx=0.20, rely=0.26, relwidth=0.65, relheight=0.09)\n",
    "vyber2.config(font=('calibri', '10'))\n",
    "\n",
    "# Third drop-down menu.\n",
    "chosen3 = tk.StringVar(value='Shift Ending Hour')\n",
    "vyber3 = tk.OptionMenu(roo, chosen3, *end_shift)\n",
    "vyber3['bg'] = '#30D5C8'\n",
    "vyber3.place(relx=0.20, rely=0.37, relwidth=0.65, relheight=0.09)\n",
    "vyber3.config(font=('calibri', '10'))\n",
    "\n",
    "# Fourth drop-down menu.\n",
    "chosen4 = tk.StringVar(value='Weekday')\n",
    "vyber4 = tk.OptionMenu(roo, chosen4, *new_week_order)\n",
    "vyber4['bg'] = '#30D5C8'\n",
    "vyber4.place(relx=0.20, rely=0.48, relwidth=0.65, relheight=0.09)\n",
    "vyber4.config(font=('calibri', '10'))\n",
    "\n",
    "# Fifth drop-down menu.\n",
    "chosen5 = tk.StringVar(value='Workplace Prefernce')\n",
    "vyber5 = tk.OptionMenu(roo, chosen5, *workplace)\n",
    "vyber5['bg'] = '#30D5C8'\n",
    "vyber5.place(relx=0.20, rely=0.59, relwidth=0.65, relheight=0.09)\n",
    "vyber5.config(font=('calibri', '10'))"
   ]
  },
  {
   "cell_type": "markdown",
   "metadata": {},
   "source": [
    "# Functions to run the GUI windows"
   ]
  },
  {
   "cell_type": "code",
   "execution_count": 9,
   "metadata": {},
   "outputs": [],
   "source": [
    "# The function is connected to the main window GUI and it opens once the user click on the save button.\n",
    "def open_mini_window():\n",
    "    root = tk.Toplevel(roo)\n",
    "    root.geometry('240x100')\n",
    "    picture = PhotoImage(file='Justt BG.png')\n",
    "    bg = Label(root, text=\"Request Successfully Saved! \\n  Do You Want To Enter Another Shift?\",\n",
    "    font=('calibri', 11), fg='white', image=picture, compound='top')\n",
    "    bg.place(x=0, y=0, relwidth=1, relheight=1)\n",
    "\n",
    "    yes_button = tk.Button(root, text='Yes', font=('calibri', '10'), command=root.destroy)\n",
    "    yes_button.place(relx=0.38, rely=0.45)\n",
    "    yes_button['bg'] = '#30D5C8'\n",
    "#     yes_button.pack()\n",
    "\n",
    "    no_button = tk.Button(root, text='No', font=('calibri', '10'), command=root.destroy)\n",
    "    no_button.place(relx=0.5, rely=0.45)\n",
    "    no_button['bg'] = '#30D5C8'\n",
    "#     no_button.pack()\n",
    "    \n",
    "    root.iconbitmap('JUSTT Logo.ico')\n",
    "    root.resizable(False, False)\n",
    "    root.mainloop()"
   ]
  },
  {
   "cell_type": "code",
   "execution_count": 11,
   "metadata": {},
   "outputs": [],
   "source": [
    "def total_shift_hours(start, end):\n",
    "    format = \"%H:%M:%S\"\n",
    "    start = datetime.strptime(start, format)\n",
    "    starting_hour = start.hour\n",
    "\n",
    "    end = datetime.strptime(end, format)\n",
    "    ending_hour = end.hour\n",
    "    \n",
    "    total_hours = ending_hour - starting_hour\n",
    "    return total_hours\n",
    "\n",
    "def show_chosen_info():\n",
    "    analyst = chosen1.get()\n",
    "    start = chosen2.get()\n",
    "    end = chosen3.get()\n",
    "    total_hours = total_shift_hours(start, end)\n",
    "    day = chosen4.get()\n",
    "    place = chosen5.get()\n",
    "    info = [analyst, start, end, total_hours, day, place]\n",
    "    return info"
   ]
  },
  {
   "cell_type": "code",
   "execution_count": 11,
   "metadata": {},
   "outputs": [],
   "source": [
    "# The main function to run the GUI window with the options to choose your shift info.\n",
    "open_windows_commands = {}\n",
    "\n",
    "def open_window():\n",
    "    key = f'{chosen1.get()}{chosen2.get()}{chosen3.get()}{chosen4.get()}{chosen5.get()}'  # Create key from choices.\n",
    "    open_window_command = open_windows_commands.get(key, show_chosen_info)\n",
    "    open_window_command()\n",
    "    open_mini_window()\n",
    "\n",
    "btn = tk.Button(roo, text='Save My Request',\n",
    "                font=('calibri', '10'), command=open_mini_window) # A clickable button to save the request.\n",
    "btn.place(relx=0.32, rely=0.80)\n",
    "btn['bg'] = '#30D5C8'\n",
    "\n",
    "roo.iconbitmap('JUSTT Logo.ico')\n",
    "roo.mainloop()"
   ]
  },
  {
   "cell_type": "markdown",
   "metadata": {},
   "source": [
    "# Entring the analyst shift request input to the dataframe"
   ]
  },
  {
   "cell_type": "code",
   "execution_count": 118,
   "metadata": {},
   "outputs": [],
   "source": [
    "# The function will map the correct info the analyst requested to the right day.\n",
    "def mapping_the_request():\n",
    "    global row\n",
    "    global day\n",
    "    choices = show_chosen_info()\n",
    "    cols = ['Analyst','In', 'Out', 'Hours', 'Weekday', 'Workplace']\n",
    "    d = dict(zip(cols, choices))\n",
    "    day = d['Weekday']\n",
    "    temp_day_column = full_week[day]\n",
    "    \n",
    "    for index, col in full_week.iterrows():\n",
    "        if col[0] == d['Analyst'] and d[\"Weekday\"] in full_week.columns:\n",
    "            row = index\n",
    "            \n",
    "    del d['Weekday'] \n",
    "    del d['Analyst']\n",
    "    request = list(d.values())\n",
    "    temp_day_column.iloc[row] = request\n",
    "    full_week[day] = temp_day_column\n",
    "    return full_week\n",
    "\n",
    "\n",
    "# full_week.update(mapping_the_request()) "
   ]
  },
  {
   "cell_type": "code",
   "execution_count": 105,
   "metadata": {
    "scrolled": false
   },
   "outputs": [
    {
     "data": {
      "text/plain": [
       "In           09:00:00\n",
       "Out          17:00:00\n",
       "Hours               8\n",
       "Workplace        Home\n",
       "Name: 12, dtype: object"
      ]
     },
     "execution_count": 105,
     "metadata": {},
     "output_type": "execute_result"
    }
   ],
   "source": [
    "full_week['Tuesday'].iloc[12]"
   ]
  },
  {
   "cell_type": "code",
   "execution_count": null,
   "metadata": {},
   "outputs": [],
   "source": []
  },
  {
   "cell_type": "code",
   "execution_count": null,
   "metadata": {},
   "outputs": [],
   "source": []
  },
  {
   "cell_type": "code",
   "execution_count": null,
   "metadata": {},
   "outputs": [],
   "source": []
  },
  {
   "cell_type": "code",
   "execution_count": null,
   "metadata": {},
   "outputs": [],
   "source": []
  },
  {
   "cell_type": "code",
   "execution_count": null,
   "metadata": {},
   "outputs": [],
   "source": []
  },
  {
   "cell_type": "code",
   "execution_count": null,
   "metadata": {},
   "outputs": [],
   "source": []
  },
  {
   "cell_type": "markdown",
   "metadata": {},
   "source": [
    "# The correct way to make the GUI windows work!!!!!!!!!!"
   ]
  },
  {
   "cell_type": "code",
   "execution_count": 19,
   "metadata": {},
   "outputs": [],
   "source": [
    "roo = Tk()\n",
    "roo.title('Shift Request')\n",
    "roo.geometry('300x300')\n",
    "picture = PhotoImage(file='Justt BG.png', master=roo)\n",
    "bg = Label(roo, image=picture)\n",
    "bg.place(x=0, y=0, relwidth=1, relheight=1)"
   ]
  },
  {
   "cell_type": "code",
   "execution_count": 20,
   "metadata": {},
   "outputs": [],
   "source": [
    "# First drop-down menu.\n",
    "chosen1 = tk.StringVar(value='Analyst Name')\n",
    "vyber1 = tk.OptionMenu(roo, chosen1, *analysts)\n",
    "vyber1['bg'] = '#30D5C8'\n",
    "vyber1.place(relx=0.20, rely=0.15, relwidth=0.65, relheight=0.09)\n",
    "vyber1.config(font=('calibri', '10'))\n",
    "\n",
    "# Second drop-down menu.\n",
    "chosen2 = tk.StringVar(value='Shift Starting Hour')\n",
    "vyber2 = tk.OptionMenu(roo, chosen2, *start_shift)\n",
    "vyber2['bg'] = '#30D5C8'\n",
    "vyber2.place(relx=0.20, rely=0.26, relwidth=0.65, relheight=0.09)\n",
    "vyber2.config(font=('calibri', '10'))\n",
    "\n",
    "# Third drop-down menu.\n",
    "chosen3 = tk.StringVar(value='Shift Ending Hour')\n",
    "vyber3 = tk.OptionMenu(roo, chosen3, *end_shift)\n",
    "vyber3['bg'] = '#30D5C8'\n",
    "vyber3.place(relx=0.20, rely=0.37, relwidth=0.65, relheight=0.09)\n",
    "vyber3.config(font=('calibri', '10'))\n",
    "\n",
    "# Fourth drop-down menu.\n",
    "chosen4 = tk.StringVar(value='Weekday')\n",
    "vyber4 = tk.OptionMenu(roo, chosen4, *new_week_order)\n",
    "vyber4['bg'] = '#30D5C8'\n",
    "vyber4.place(relx=0.20, rely=0.48, relwidth=0.65, relheight=0.09)\n",
    "vyber4.config(font=('calibri', '10'))\n",
    "\n",
    "# Fifth drop-down menu.\n",
    "chosen5 = tk.StringVar(value='Workplace Prefernce')\n",
    "vyber5 = tk.OptionMenu(roo, chosen5, *workplace)\n",
    "vyber5['bg'] = '#30D5C8'\n",
    "vyber5.place(relx=0.20, rely=0.59, relwidth=0.65, relheight=0.09)\n",
    "vyber5.config(font=('calibri', '10'))"
   ]
  },
  {
   "cell_type": "code",
   "execution_count": 21,
   "metadata": {},
   "outputs": [],
   "source": [
    "def open_mini_window():\n",
    "    ro = Toplevel(roo)\n",
    "    ro.title('Shift Request')\n",
    "    ro.geometry('250x110')\n",
    "    picture = PhotoImage(file='JUSTT bg.png', master=ro)\n",
    "    ro.iconbitmap('JUSTT Logo.ico')\n",
    "\n",
    "    canvas = Canvas(ro, width=250, height=120)\n",
    "    canvas.pack(fill='both',expand=True)\n",
    "    canvas.create_image(0, 0, image=picture)\n",
    "\n",
    "    canvas.create_text(125, 30, text=\"Request Successfully Saved! \\nDo You Want To Enter Another Shift?\",\n",
    "            font=('calibri', 11), fill='white')\n",
    "\n",
    "    yes_button = tk.Button(ro, text='Yes', font=('calibri', '10'), command=ro.destroy)\n",
    "    yes_button.place(relx=0.38, rely=0.70)\n",
    "    yes_button['bg'] = '#30D5C8'\n",
    "\n",
    "    no_button = tk.Button(ro, text='No', font=('calibri', '10'), command=roo.destroy)\n",
    "    no_button.place(relx=0.5, rely=0.70)\n",
    "    no_button['bg'] = '#30D5C8'\n",
    "\n",
    "    ro.resizable(False, False)\n",
    "    ro.mainloop()"
   ]
  },
  {
   "cell_type": "code",
   "execution_count": 22,
   "metadata": {},
   "outputs": [
    {
     "name": "stderr",
     "output_type": "stream",
     "text": [
      "C:\\Users\\User\\anaconda3\\lib\\site-packages\\pandas\\core\\indexing.py:671: SettingWithCopyWarning: \n",
      "A value is trying to be set on a copy of a slice from a DataFrame\n",
      "\n",
      "See the caveats in the documentation: https://pandas.pydata.org/pandas-docs/stable/user_guide/indexing.html#returning-a-view-versus-a-copy\n",
      "  self._setitem_with_indexer(indexer, value)\n",
      "<ipython-input-22-11b10f6f3d8b>:34: SettingWithCopyWarning: \n",
      "A value is trying to be set on a copy of a slice from a DataFrame\n",
      "\n",
      "See the caveats in the documentation: https://pandas.pydata.org/pandas-docs/stable/user_guide/indexing.html#returning-a-view-versus-a-copy\n",
      "  temp_day_column.iloc[row] = request\n"
     ]
    }
   ],
   "source": [
    "def open_window():\n",
    "    open_windows_commands = {}\n",
    "    key = f'{chosen1.get()}{chosen2.get()}{chosen3.get()}{chosen4.get()}{chosen5.get()}'  # Create key from choices.\n",
    "    open_window_command = open_windows_commands.get(key, show_chosen_info)\n",
    "    open_window_command()\n",
    "    open_mini_window()\n",
    "    mapping_the_request()\n",
    "\n",
    "btn = tk.Button(roo, text='Save My Request',\n",
    "                font=('calibri', '10'), command=open_mini_window) # A clickable button to save the request.\n",
    "btn.place(relx=0.32, rely=0.80)\n",
    "btn['bg'] = '#30D5C8'\n",
    "\n",
    "roo.iconbitmap('JUSTT Logo.ico')\n",
    "roo.mainloop()\n",
    "\n",
    "# The function will map the correct info the analyst requested to the right day.\n",
    "def mapping_the_request():\n",
    "    global row\n",
    "    global day\n",
    "    choices = show_chosen_info()\n",
    "    cols = ['Analyst','In', 'Out', 'Hours', 'Weekday', 'Workplace']\n",
    "    d = dict(zip(cols, choices))\n",
    "    day = d['Weekday']\n",
    "    temp_day_column = full_week[day]\n",
    "    \n",
    "    for index, col in full_week.iterrows():\n",
    "        if col[0] == d['Analyst'] and d[\"Weekday\"] in full_week.columns:\n",
    "            row = index\n",
    "            \n",
    "    del d['Weekday'] \n",
    "    del d['Analyst']\n",
    "    request = list(d.values())\n",
    "    temp_day_column.iloc[row] = request\n",
    "    full_week[day] = temp_day_column\n",
    "    return full_week\n",
    "\n",
    "\n",
    "full_week.update(mapping_the_request())"
   ]
  },
  {
   "cell_type": "markdown",
   "metadata": {},
   "source": [
    "# DO NOT DELETE THE ABOVE TOM!!!!!!!!!!!!!!!!!!"
   ]
  },
  {
   "cell_type": "code",
   "execution_count": 23,
   "metadata": {},
   "outputs": [
    {
     "data": {
      "text/html": [
       "<div>\n",
       "<style scoped>\n",
       "    .dataframe tbody tr th:only-of-type {\n",
       "        vertical-align: middle;\n",
       "    }\n",
       "\n",
       "    .dataframe tbody tr th {\n",
       "        vertical-align: top;\n",
       "    }\n",
       "\n",
       "    .dataframe thead th {\n",
       "        text-align: right;\n",
       "    }\n",
       "</style>\n",
       "<table border=\"1\" class=\"dataframe\">\n",
       "  <thead>\n",
       "    <tr style=\"text-align: right;\">\n",
       "      <th></th>\n",
       "      <th>In</th>\n",
       "      <th>Out</th>\n",
       "      <th>Hours</th>\n",
       "      <th>Workplace</th>\n",
       "    </tr>\n",
       "  </thead>\n",
       "  <tbody>\n",
       "    <tr>\n",
       "      <th>12</th>\n",
       "      <td>09:00:00</td>\n",
       "      <td>17:00:00</td>\n",
       "      <td>8</td>\n",
       "      <td>Office</td>\n",
       "    </tr>\n",
       "  </tbody>\n",
       "</table>\n",
       "</div>"
      ],
      "text/plain": [
       "          In       Out Hours Workplace\n",
       "12  09:00:00  17:00:00     8    Office"
      ]
     },
     "execution_count": 23,
     "metadata": {},
     "output_type": "execute_result"
    }
   ],
   "source": [
    "full_week['Tuesday'].loc[full_week['Analyst'] == 'Tom Horvatt']"
   ]
  },
  {
   "cell_type": "code",
   "execution_count": 17,
   "metadata": {},
   "outputs": [
    {
     "data": {
      "text/plain": [
       "Analyst               Tom Horvatt\n",
       "Sunday   In                      \n",
       "         Out                     \n",
       "         Hours                   \n",
       "         Workplace               \n",
       "Name: 12, dtype: object"
      ]
     },
     "execution_count": 17,
     "metadata": {},
     "output_type": "execute_result"
    }
   ],
   "source": [
    "full_week[['Analyst','Sunday']].iloc[12]"
   ]
  },
  {
   "cell_type": "code",
   "execution_count": null,
   "metadata": {},
   "outputs": [],
   "source": []
  },
  {
   "cell_type": "code",
   "execution_count": null,
   "metadata": {},
   "outputs": [],
   "source": []
  },
  {
   "cell_type": "code",
   "execution_count": null,
   "metadata": {},
   "outputs": [],
   "source": []
  },
  {
   "cell_type": "code",
   "execution_count": null,
   "metadata": {},
   "outputs": [],
   "source": []
  },
  {
   "cell_type": "code",
   "execution_count": null,
   "metadata": {},
   "outputs": [],
   "source": []
  },
  {
   "cell_type": "code",
   "execution_count": 126,
   "metadata": {},
   "outputs": [
    {
     "name": "stderr",
     "output_type": "stream",
     "text": [
      "<ipython-input-118-796211a382fb>:18: SettingWithCopyWarning: \n",
      "A value is trying to be set on a copy of a slice from a DataFrame\n",
      "\n",
      "See the caveats in the documentation: https://pandas.pydata.org/pandas-docs/stable/user_guide/indexing.html#returning-a-view-versus-a-copy\n",
      "  temp_day_column.iloc[row] = request\n"
     ]
    }
   ],
   "source": [
    "def start_all_functions():\n",
    "    df = pd.read_excel('weekly schedule chbks analysts for the names.xlsx',skiprows=4,\n",
    "                   usecols = ['Unnamed: 0']).rename(columns={'Unnamed: 0':'Analysts'})\n",
    "    \n",
    "    analysts = df['Analysts'] # Analysts names.\n",
    "\n",
    "    time_range = pd.date_range('08:00','20:00',freq='1h')\n",
    "    time_lst = time_range.strftime('%H:%M:%S')\n",
    "    time_lst # List that have time range between 8AM to 8PM.\n",
    "\n",
    "    start_shift = time_lst.copy() # Time range to use for entering the hour you start your shift.\n",
    "    end_shift = time_lst.copy() # Time range to use for entering the hour you end your shift.\n",
    "\n",
    "    days = list(calendar.day_name) \n",
    "    sunday = days[-1]\n",
    "    rest_of_the_week = days[:-1]\n",
    "    new_week_order = [sunday] + rest_of_the_week # List of weekday names.\n",
    "\n",
    "    workplace = ['Home','Office'] # Option where you choose to work.\n",
    "    \n",
    "    headers = ['In', 'Out', 'Hours', 'Workplace'] # List of the subcolumn name.\n",
    "\n",
    "    days = list(calendar.day_name)\n",
    "    sunday = days[-1]\n",
    "    rest_of_the_week = days[:-3]\n",
    "    week = [sunday] + rest_of_the_week # An organized week list from Sunday-Thursday.\n",
    "\n",
    "    mux = pd.MultiIndex.from_product([week, headers]) # Creating the MultiIndex dataframe.\n",
    "    full_week = pd.DataFrame(columns=mux)\n",
    "    full_week.insert(0, 'Analyst', df['Analysts'].str.title())\n",
    "    full_week = full_week.fillna('')\n",
    "    \n",
    "    # Creating the GUI window.\n",
    "    roo = Tk()\n",
    "    roo.title('Shift Request')\n",
    "    roo.geometry('300x300')\n",
    "    picture = PhotoImage(file='Justt BG.png', master=roo)\n",
    "    bg = Label(roo, image=picture)\n",
    "    bg.place(x=0, y=0, relwidth=1, relheight=1)\n",
    "    \n",
    "    # First drop-down menu.\n",
    "    chosen1 = tk.StringVar(value='Analyst Name')\n",
    "    vyber1 = tk.OptionMenu(roo, chosen1, *analysts)\n",
    "    vyber1['bg'] = '#30D5C8'\n",
    "    vyber1.place(relx=0.20, rely=0.15, relwidth=0.65, relheight=0.09)\n",
    "    vyber1.config(font=('calibri', '10'))\n",
    "\n",
    "    # Second drop-down menu.\n",
    "    chosen2 = tk.StringVar(value='Shift Starting Hour')\n",
    "    vyber2 = tk.OptionMenu(roo, chosen2, *start_shift)\n",
    "    vyber2['bg'] = '#30D5C8'\n",
    "    vyber2.place(relx=0.20, rely=0.26, relwidth=0.65, relheight=0.09)\n",
    "    vyber2.config(font=('calibri', '10'))\n",
    "\n",
    "    # Third drop-down menu.\n",
    "    chosen3 = tk.StringVar(value='Shift Ending Hour')\n",
    "    vyber3 = tk.OptionMenu(roo, chosen3, *end_shift)\n",
    "    vyber3['bg'] = '#30D5C8'\n",
    "    vyber3.place(relx=0.20, rely=0.37, relwidth=0.65, relheight=0.09)\n",
    "    vyber3.config(font=('calibri', '10'))\n",
    "\n",
    "    # Fourth drop-down menu.\n",
    "    chosen4 = tk.StringVar(value='Weekday')\n",
    "    vyber4 = tk.OptionMenu(roo, chosen4, *new_week_order)\n",
    "    vyber4['bg'] = '#30D5C8'\n",
    "    vyber4.place(relx=0.20, rely=0.48, relwidth=0.65, relheight=0.09)\n",
    "    vyber4.config(font=('calibri', '10'))\n",
    "\n",
    "    # Fifth drop-down menu.\n",
    "    chosen5 = tk.StringVar(value='Workplace Prefernce')\n",
    "    vyber5 = tk.OptionMenu(roo, chosen5, *workplace)\n",
    "    vyber5['bg'] = '#30D5C8'\n",
    "    vyber5.place(relx=0.20, rely=0.59, relwidth=0.65, relheight=0.09)\n",
    "    vyber5.config(font=('calibri', '10'))\n",
    "    \n",
    "    def open_mini_window():\n",
    "        ro = Toplevel(roo)\n",
    "        ro.title('Shift Request')\n",
    "        ro.geometry('250x110')\n",
    "        picture = PhotoImage(file='JUSTT bg.png', master=ro)\n",
    "        ro.iconbitmap('JUSTT Logo.ico')\n",
    "\n",
    "        canvas = Canvas(ro, width=250, height=120)\n",
    "        canvas.pack(fill='both',expand=True)\n",
    "        canvas.create_image(0, 0, image=picture)\n",
    "\n",
    "        canvas.create_text(125, 30, text=\"Request Successfully Saved! \\nDo You Want To Enter Another Shift?\",\n",
    "                font=('calibri', 11), fill='white')\n",
    "\n",
    "        yes_button = tk.Button(ro, text='Yes', font=('calibri', '10'), command=ro.destroy)\n",
    "        yes_button.place(relx=0.38, rely=0.70)\n",
    "        yes_button['bg'] = '#30D5C8'\n",
    "\n",
    "        no_button = tk.Button(ro, text='No', font=('calibri', '10'), command=roo.destroy)\n",
    "        no_button.place(relx=0.5, rely=0.70)\n",
    "        no_button['bg'] = '#30D5C8'\n",
    "\n",
    "        ro.resizable(False, False)\n",
    "        ro.mainloop()\n",
    "    \n",
    "    def open_window():\n",
    "        open_windows_commands = {}\n",
    "        key = f'{chosen1.get()}{chosen2.get()}{chosen3.get()}{chosen4.get()}{chosen5.get()}'  # Create key from choices.\n",
    "        open_window_command = open_windows_commands.get(key, show_chosen_info)\n",
    "        open_window_command()\n",
    "        open_mini_window()\n",
    "        mapping_the_request()\n",
    "\n",
    "    btn = tk.Button(roo, text='Save My Request',\n",
    "                    font=('calibri', '10'), command=open_mini_window) # A clickable button to save the request.\n",
    "    btn.place(relx=0.32, rely=0.80)\n",
    "    btn['bg'] = '#30D5C8'\n",
    "\n",
    "    roo.iconbitmap('JUSTT Logo.ico')\n",
    "    roo.mainloop()\n",
    "\n",
    "    mapping_the_request()\n",
    "    \n",
    "# if '__name__' == '__main__':\n",
    "start_all_functions()"
   ]
  },
  {
   "cell_type": "code",
   "execution_count": 127,
   "metadata": {},
   "outputs": [
    {
     "data": {
      "text/plain": [
       "In           08:00:00\n",
       "Out          17:00:00\n",
       "Hours               9\n",
       "Workplace      Office\n",
       "Name: 12, dtype: object"
      ]
     },
     "execution_count": 127,
     "metadata": {},
     "output_type": "execute_result"
    }
   ],
   "source": [
    "full_week['Tuesday'].iloc[12]"
   ]
  },
  {
   "cell_type": "code",
   "execution_count": null,
   "metadata": {},
   "outputs": [],
   "source": []
  },
  {
   "cell_type": "code",
   "execution_count": null,
   "metadata": {},
   "outputs": [],
   "source": []
  },
  {
   "cell_type": "code",
   "execution_count": 20,
   "metadata": {},
   "outputs": [],
   "source": [
    "# full_week.to_excel('Weekly.xlsx')"
   ]
  }
 ],
 "metadata": {
  "celltoolbar": "Edit Metadata",
  "kernelspec": {
   "display_name": "Python 3",
   "language": "python",
   "name": "python3"
  },
  "language_info": {
   "codemirror_mode": {
    "name": "ipython",
    "version": 3
   },
   "file_extension": ".py",
   "mimetype": "text/x-python",
   "name": "python",
   "nbconvert_exporter": "python",
   "pygments_lexer": "ipython3",
   "version": "3.8.3"
  }
 },
 "nbformat": 4,
 "nbformat_minor": 2
}

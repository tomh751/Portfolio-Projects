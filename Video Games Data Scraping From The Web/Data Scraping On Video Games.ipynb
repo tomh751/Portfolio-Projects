{
 "cells": [
  {
   "cell_type": "code",
   "execution_count": 410,
   "metadata": {},
   "outputs": [],
   "source": [
    "#Import the libraries I'll use.\n",
    "import pandas as pd\n",
    "import requests\n",
    "from bs4 import BeautifulSoup as bs\n",
    "import re"
   ]
  },
  {
   "cell_type": "code",
   "execution_count": 542,
   "metadata": {},
   "outputs": [
    {
     "name": "stdout",
     "output_type": "stream",
     "text": [
      "<tr>\n",
      " <th class=\"infobox-above fn\" colspan=\"2\" style=\"font-size:125%;font-style:italic;\">\n",
      "  The Oregon Trail\n",
      " </th>\n",
      "</tr>\n",
      "\n",
      "<tr>\n",
      " <td class=\"infobox-image\" colspan=\"2\">\n",
      "  <a class=\"image\" href=\"/wiki/File:TheOregonTrail1971Gameplay.png\">\n",
      "   <img alt=\"TheOregonTrail1971Gameplay.png\" data-file-height=\"180\" data-file-width=\"552\" decoding=\"async\" height=\"82\" src=\"//upload.wikimedia.org/wikipedia/en/thumb/2/26/TheOregonTrail1971Gameplay.png/250px-TheOregonTrail1971Gameplay.png\" srcset=\"//upload.wikimedia.org/wikipedia/en/thumb/2/26/TheOregonTrail1971Gameplay.png/375px-TheOregonTrail1971Gameplay.png 1.5x, //upload.wikimedia.org/wikipedia/en/thumb/2/26/TheOregonTrail1971Gameplay.png/500px-TheOregonTrail1971Gameplay.png 2x\" width=\"250\"/>\n",
      "  </a>\n",
      "  <div class=\"infobox-caption\" style=\"font-size: 95%;\">\n",
      "   Picture of\n",
      "   <a href=\"/wiki/Teleprinter\" title=\"Teleprinter\">\n",
      "    teleprinter\n",
      "   </a>\n",
      "   output of the game, featuring a single round of gameplay\n",
      "  </div>\n",
      " </td>\n",
      "</tr>\n",
      "\n",
      "<tr>\n",
      " <th class=\"infobox-label\" scope=\"row\" style=\"white-space:nowrap;padding-right:0.65em;\">\n",
      "  <a href=\"/wiki/Video_game_developer\" title=\"Video game developer\">\n",
      "   Developer(s)\n",
      "  </a>\n",
      " </th>\n",
      " <td class=\"infobox-data\">\n",
      "  Don Rawitsch, Bill Heinemann, and Paul Dillenberger\n",
      " </td>\n",
      "</tr>\n",
      "\n",
      "<tr>\n",
      " <th class=\"infobox-label\" scope=\"row\" style=\"white-space:nowrap;padding-right:0.65em;\">\n",
      "  <a href=\"/wiki/Video_game_publisher\" title=\"Video game publisher\">\n",
      "   Publisher(s)\n",
      "  </a>\n",
      " </th>\n",
      " <td class=\"infobox-data\">\n",
      "  <a href=\"/wiki/MECC\" title=\"MECC\">\n",
      "   MECC\n",
      "  </a>\n",
      " </td>\n",
      "</tr>\n",
      "\n",
      "<tr>\n",
      " <th class=\"infobox-label\" scope=\"row\" style=\"white-space:nowrap;padding-right:0.65em;\">\n",
      "  Series\n",
      " </th>\n",
      " <td class=\"infobox-data\">\n",
      "  <i>\n",
      "   <a href=\"/wiki/The_Oregon_Trail_(series)\" title=\"The Oregon Trail (series)\">\n",
      "    The Oregon Trail\n",
      "   </a>\n",
      "  </i>\n",
      " </td>\n",
      "</tr>\n",
      "\n",
      "<tr>\n",
      " <th class=\"infobox-label\" scope=\"row\" style=\"white-space:nowrap;padding-right:0.65em;\">\n",
      "  <a href=\"/wiki/Computing_platform\" title=\"Computing platform\">\n",
      "   Platform(s)\n",
      "  </a>\n",
      " </th>\n",
      " <td class=\"infobox-data\">\n",
      "  <a href=\"/wiki/Mainframe_computer\" title=\"Mainframe computer\">\n",
      "   Mainframe\n",
      "  </a>\n",
      "  (\n",
      "  <a href=\"/wiki/HP_2100\" title=\"HP 2100\">\n",
      "   HP 2100\n",
      "  </a>\n",
      "  ,\n",
      "  <a href=\"/wiki/CDC_Cyber\" title=\"CDC Cyber\">\n",
      "   CDC Cyber 70/73-26\n",
      "  </a>\n",
      "  )\n",
      "  <br/>\n",
      "  <a href=\"/wiki/Personal_computer\" title=\"Personal computer\">\n",
      "   PC\n",
      "  </a>\n",
      "  (\n",
      "  <a href=\"/wiki/Apple_II\" title=\"Apple II\">\n",
      "   Apple II\n",
      "  </a>\n",
      "  ,\n",
      "  <a href=\"/wiki/Atari_8-bit_family\" title=\"Atari 8-bit family\">\n",
      "   Atari 8-Bit\n",
      "  </a>\n",
      "  ,\n",
      "  <a href=\"/wiki/Commodore_64\" title=\"Commodore 64\">\n",
      "   Commodore 64\n",
      "  </a>\n",
      "  )\n",
      " </td>\n",
      "</tr>\n",
      "\n",
      "<tr>\n",
      " <th class=\"infobox-label\" scope=\"row\" style=\"white-space:nowrap;padding-right:0.65em;\">\n",
      "  Release\n",
      " </th>\n",
      " <td class=\"infobox-data\">\n",
      "  <b>\n",
      "   Original\n",
      "  </b>\n",
      "  <br/>\n",
      "  <div class=\"plainlist\">\n",
      "   <ul>\n",
      "    <li>\n",
      "     <span style=\"font-size:95%;\">\n",
      "      <a href=\"/wiki/North_America\" title=\"North America\">\n",
      "       NA\n",
      "      </a>\n",
      "      :\n",
      "     </span>\n",
      "     December 3, 1971\n",
      "    </li>\n",
      "   </ul>\n",
      "  </div>\n",
      "  <b>\n",
      "   MECC\n",
      "  </b>\n",
      "  <br/>\n",
      "  <div class=\"plainlist\">\n",
      "   <ul>\n",
      "    <li>\n",
      "     <span style=\"font-size:95%;\">\n",
      "      <a href=\"/wiki/North_America\" title=\"North America\">\n",
      "       NA\n",
      "      </a>\n",
      "      :\n",
      "     </span>\n",
      "     1975\n",
      "    </li>\n",
      "   </ul>\n",
      "  </div>\n",
      " </td>\n",
      "</tr>\n",
      "\n",
      "<tr>\n",
      " <th class=\"infobox-label\" scope=\"row\" style=\"white-space:nowrap;padding-right:0.65em;\">\n",
      "  <a href=\"/wiki/Video_game_genre\" title=\"Video game genre\">\n",
      "   Genre(s)\n",
      "  </a>\n",
      " </th>\n",
      " <td class=\"infobox-data\">\n",
      "  <a href=\"/wiki/Strategy_video_game\" title=\"Strategy video game\">\n",
      "   Strategy\n",
      "  </a>\n",
      " </td>\n",
      "</tr>\n",
      "\n",
      "<tr>\n",
      " <th class=\"infobox-label\" scope=\"row\" style=\"white-space:nowrap;padding-right:0.65em;\">\n",
      "  Mode(s)\n",
      " </th>\n",
      " <td class=\"infobox-data\">\n",
      "  <a href=\"/wiki/Single-player_video_game\" title=\"Single-player video game\">\n",
      "   Single-player\n",
      "  </a>\n",
      " </td>\n",
      "</tr>\n"
     ]
    }
   ],
   "source": [
    "#Starting by looking at a specific game page and looking what class is the box info.\n",
    "r = requests.get(\"https://en.wikipedia.org/wiki/The_Oregon_Trail_(1971_video_game)\")\n",
    "soups = bs(r.content,\"lxml\")\n",
    "\n",
    "info_box = soups.find(class_=\"infobox hproduct\")\n",
    "info_rows = info_box.find_all(\"tr\")\n",
    "for row in info_rows:\n",
    "    print(row.prettify())"
   ]
  },
  {
   "cell_type": "code",
   "execution_count": 543,
   "metadata": {},
   "outputs": [
    {
     "name": "stdout",
     "output_type": "stream",
     "text": [
      "['NA: December 3, 1971', 'NA: 1975']\n"
     ]
    }
   ],
   "source": [
    "#Fix linebreaks and specific release date.\n",
    "for br in soups.find_all(\"br\"):\n",
    "    br.replace_with(\" \")\n",
    "\n",
    "lst = []\n",
    "for t in info_box.find_all(\"li\"):\n",
    "    lst.append(t.get_text())\n",
    "    \n",
    "print(lst)"
   ]
  },
  {
   "cell_type": "code",
   "execution_count": 544,
   "metadata": {},
   "outputs": [
    {
     "data": {
      "text/plain": [
       "{'Title': 'The Oregon Trail',\n",
       " 'Developer(s)': 'Don Rawitsch, Bill Heinemann, and Paul Dillenberger',\n",
       " 'Publisher(s)': 'MECC',\n",
       " 'Series': 'The Oregon Trail',\n",
       " 'Platform(s)': 'Mainframe (HP 2100, CDC Cyber 70/73-26) PC (Apple II, Atari 8-Bit, Commodore 64)',\n",
       " 'Release': ['NA: December 3, 1971', 'NA: 1975'],\n",
       " 'Genre(s)': 'Strategy',\n",
       " 'Mode(s)': 'Single-player'}"
      ]
     },
     "execution_count": 544,
     "metadata": {},
     "output_type": "execute_result"
    }
   ],
   "source": [
    "def get_content_value(row_data):\n",
    "    if row_data.find(\"ui\"):\n",
    "        return [li.get_text() for li in row_data.find_all(\"li\")]\n",
    "    else:\n",
    "        return row_data.get_text()\n",
    "\n",
    "#Creating a dictionary to use the keys as categories and the values of each category.\n",
    "games_info = {}\n",
    "for index, row in enumerate(info_rows):\n",
    "    if index == 0:\n",
    "        games_info[\"Title\"] = row.find(\"th\").get_text()\n",
    "    elif index == 1: # That is the picture, I won't use it.\n",
    "        continue \n",
    "    else:\n",
    "        key = row.find(\"th\").get_text()\n",
    "        value = row.find(\"td\").get_text()\n",
    "        games_info[key] = value\n",
    "\n",
    "games_info[\"Release\"] = lst\n",
    "\n",
    "games_info"
   ]
  },
  {
   "cell_type": "code",
   "execution_count": 549,
   "metadata": {},
   "outputs": [],
   "source": [
    "#Getting the table of all the games list\n",
    "games = requests.get(\"https://en.wikipedia.org/wiki/List_of_video_games_considered_the_best\")\n",
    "soup_game = bs(games.content,\"lxml\")\n",
    "all_games_lst = soup_game.select(\".wikitable.sortable i\")"
   ]
  },
  {
   "cell_type": "code",
   "execution_count": 613,
   "metadata": {},
   "outputs": [
    {
     "data": {
      "text/plain": [
       "'/wiki/The_Oregon_Trail_(1971_video_game)'"
      ]
     },
     "execution_count": 613,
     "metadata": {},
     "output_type": "execute_result"
    }
   ],
   "source": [
    "#Looking at the first 10 game to see if it worked.\n",
    "all_games_lst[:10]"
   ]
  },
  {
   "cell_type": "code",
   "execution_count": 644,
   "metadata": {},
   "outputs": [],
   "source": [
    "#Created a function to look at list elements and strip the whirespaces and seperate them by a single one space\n",
    "# and put them under a list format.\n",
    "def get_content_value(row_data):\n",
    "    if row_data.find(\"li\"):\n",
    "        return [li.get_text(\" \",strip=True) for li in row_data.find_all(\"li\")]\n",
    "    else:\n",
    "        return row_data.get_text()\n",
    "\n",
    "def clean_refs(soup):\n",
    "    desired_string = ''.join([x.strip() for x in str(soup.title).split('\\r\\n')])\n",
    "\n",
    "#Created a function to take each url and the information about each game.\n",
    "def get_info_box(url):\n",
    "    r = requests.get(url)\n",
    "    soups = bs(r.content,\"lxml\")\n",
    "    info_box = soups.find(class_=\"infobox hproduct\")\n",
    "    info_rows = info_box.find_all(\"tr\")\n",
    "    \n",
    "    clean_refs(soups)\n",
    "    \n",
    "    games_info = {}\n",
    "    for index, row in enumerate(info_rows):\n",
    "        if index == 0:\n",
    "            games_info[\"Title\"] = row.find(\"th\").get_text()\n",
    "        elif index == 1: # That is the picture, I won't use it.\n",
    "            continue \n",
    "        else:\n",
    "            key = row.find(\"th\").get_text()\n",
    "            value = row.find(\"td\").get_text()\n",
    "            games_info[key] = value\n",
    "            \n",
    "    return games_info"
   ]
  },
  {
   "cell_type": "code",
   "execution_count": 645,
   "metadata": {},
   "outputs": [
    {
     "data": {
      "text/plain": [
       "{'Title': 'NiGHTS into dreams...',\n",
       " 'Developer(s)': 'Sonic Team',\n",
       " 'Publisher(s)': 'Sega',\n",
       " 'Director(s)': 'Naoto Ohshima',\n",
       " 'Producer(s)': 'Yuji Naka',\n",
       " 'Designer(s)': 'Takashi Iizuka',\n",
       " 'Programmer(s)': 'Yuji Naka',\n",
       " 'Artist(s)': '\\nKazuyuki Hoshino\\nNaoto Ohshima\\n',\n",
       " 'Composer(s)': '\\nNaofumi Hataya\\nTomoko Sasaki\\nFumie Kumatani\\n',\n",
       " 'Series': 'NiGHTS\\xa0',\n",
       " 'Platform(s)': '\\nSega Saturn\\nPlayStation 2\\nMicrosoft Windows\\nPlayStation 3\\nXbox 360\\n',\n",
       " 'Release': '\\n5 July 1996\\n\\nSega SaturnJP: 5 July 1996NA: 20 August 1996EU: 7 October 1996\\nPlayStation 2JP: 21 February 2008\\nMicrosoft WindowsWW: 2 October 2012\\nPlayStation 3NA: 2 October 2012EU: 3 October 2012JP: 4 October 2012\\nXbox 360WW: 5 October 2012\\n',\n",
       " 'Genre(s)': 'Action',\n",
       " 'Mode(s)': 'Single-player, multiplayer'}"
      ]
     },
     "execution_count": 645,
     "metadata": {},
     "output_type": "execute_result"
    }
   ],
   "source": [
    "get_info_box(\"https://en.wikipedia.org/wiki/Nights_into_Dreams\")"
   ]
  },
  {
   "cell_type": "code",
   "execution_count": 615,
   "metadata": {},
   "outputs": [],
   "source": [
    "#Loaded the website I'm going to get all the video games list and iterate on each game to get the title and\n",
    "#the link to the wikipedia game page.\n",
    "r = requests.get(\"https://en.wikipedia.org/wiki/List_of_video_games_considered_the_best\")\n",
    "soup_game = bs(r.content,\"lxml\")\n",
    "games = soup_game.select(\".wikitable.sortable i a\")\n",
    "\n",
    "wiki_path = \"https://en.wikipedia.org\"\n",
    "\n",
    "game_info_list = []\n",
    "for index, game in enumerate(games):\n",
    "    try:\n",
    "        relative_path = game[\"href\"]\n",
    "        full_wiki_path = wiki_path+relative_path\n",
    "        title = game[\"title\"]\n",
    "        game_info_list.append(get_info_box(full_wiki_path))\n",
    "        \n",
    "    except Exception: #3 games won't open so I decided to pass them.\n",
    "        pass\n",
    "        "
   ]
  },
  {
   "cell_type": "code",
   "execution_count": 616,
   "metadata": {},
   "outputs": [
    {
     "data": {
      "text/plain": [
       "236"
      ]
     },
     "execution_count": 616,
     "metadata": {},
     "output_type": "execute_result"
    }
   ],
   "source": [
    "len(game_info_list)"
   ]
  },
  {
   "cell_type": "code",
   "execution_count": 617,
   "metadata": {},
   "outputs": [],
   "source": [
    "import json\n",
    "\n",
    "def save(title, data):\n",
    "    with open(title, \"w\", encoding=\"utf8\") as f:\n",
    "        json.dump(data, f, ensure_ascii=False, indent=2)"
   ]
  },
  {
   "cell_type": "code",
   "execution_count": 619,
   "metadata": {},
   "outputs": [],
   "source": [
    "import json\n",
    "\n",
    "def load(title):\n",
    "    with open(title, \"r\", encoding=\"utf8\") as f:\n",
    "        return json.load(f)"
   ]
  },
  {
   "cell_type": "code",
   "execution_count": 620,
   "metadata": {},
   "outputs": [],
   "source": [
    "#Save the dictionary of the games as a json file.\n",
    "save(\"Video Games Data.json\", game_info_list)"
   ]
  },
  {
   "cell_type": "code",
   "execution_count": 621,
   "metadata": {},
   "outputs": [],
   "source": [
    "#Reload the data so I won't have to do requests again.\n",
    "game_info_list = load(\"Video Games Data.json\")"
   ]
  },
  {
   "cell_type": "markdown",
   "metadata": {},
   "source": [
    "# Clean The Data:"
   ]
  },
  {
   "cell_type": "markdown",
   "metadata": {},
   "source": [
    "### Remove references box from the data and the keys.\n",
    "### remove whitespaces from the data.\n",
    "### Replcae \"\\n\" with an empty string.\n",
    "### Remove (s) from the dictionary keys, special sign such as \"./!\" etc and strip whitespaces as well.\n",
    "### Fix release dates.\n",
    "### "
   ]
  },
  {
   "cell_type": "code",
   "execution_count": 624,
   "metadata": {},
   "outputs": [
    {
     "ename": "AttributeError",
     "evalue": "'dict' object has no attribute 'replace'",
     "output_type": "error",
     "traceback": [
      "\u001b[1;31m---------------------------------------------------------------------------\u001b[0m",
      "\u001b[1;31mAttributeError\u001b[0m                            Traceback (most recent call last)",
      "\u001b[1;32m<ipython-input-624-5a7d6f5de81a>\u001b[0m in \u001b[0;36m<module>\u001b[1;34m\u001b[0m\n\u001b[0;32m      1\u001b[0m \u001b[1;32mfor\u001b[0m \u001b[0mindex\u001b[0m\u001b[1;33m,\u001b[0m \u001b[0mrow\u001b[0m \u001b[1;32min\u001b[0m \u001b[0menumerate\u001b[0m\u001b[1;33m(\u001b[0m\u001b[0mgame_info_list\u001b[0m\u001b[1;33m)\u001b[0m\u001b[1;33m:\u001b[0m\u001b[1;33m\u001b[0m\u001b[1;33m\u001b[0m\u001b[0m\n\u001b[1;32m----> 2\u001b[1;33m     \u001b[0mrow\u001b[0m\u001b[1;33m.\u001b[0m\u001b[0mreplace\u001b[0m\u001b[1;33m(\u001b[0m\u001b[1;34m\"\\n\"\u001b[0m\u001b[1;33m,\u001b[0m\u001b[1;34m\"\"\u001b[0m\u001b[1;33m)\u001b[0m\u001b[1;33m\u001b[0m\u001b[1;33m\u001b[0m\u001b[0m\n\u001b[0m",
      "\u001b[1;31mAttributeError\u001b[0m: 'dict' object has no attribute 'replace'"
     ]
    }
   ],
   "source": [
    "#Clean up references (remove [1] etc.).\n"
   ]
  },
  {
   "cell_type": "code",
   "execution_count": null,
   "metadata": {},
   "outputs": [],
   "source": []
  }
 ],
 "metadata": {
  "kernelspec": {
   "display_name": "Python 3",
   "language": "python",
   "name": "python3"
  },
  "language_info": {
   "codemirror_mode": {
    "name": "ipython",
    "version": 3
   },
   "file_extension": ".py",
   "mimetype": "text/x-python",
   "name": "python",
   "nbconvert_exporter": "python",
   "pygments_lexer": "ipython3",
   "version": "3.8.3"
  }
 },
 "nbformat": 4,
 "nbformat_minor": 4
}
